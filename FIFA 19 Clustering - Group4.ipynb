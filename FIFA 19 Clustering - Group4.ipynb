{
 "cells": [
  {
   "cell_type": "markdown",
   "metadata": {},
   "source": [
    "# FIFA 19 Clustering\n",
    "\n",
    "The database contains information about the football players from the Fifa game:\n",
    "\t\n",
    "    row number\n",
    "\tID unique id for every player\n",
    "\tName name\n",
    "\tAge age\n",
    "\tPhoto url to the player's photo\n",
    "\tNationality nationality\n",
    "\tFlag url to players's country flag\n",
    "\tOverall overall rating\n",
    "\tPotential potential rating\n",
    "\tClub current club\n",
    "\tClub Logo url to club logo\n",
    "\tValue current market value\n",
    "\tWage current wage\n",
    "\tSpecial special\n",
    "\tPreferred Foot left/right\n",
    "\tInternational Reputation rating on scale of 5\n",
    "\tWeak Foot rating on scale of 5\n",
    "\tSkill Moves rating on scale of 5\n",
    "\tWork Rate attack work rate/defence work rate\n",
    "\tBody Type body type of player\n",
    "\tReal Face true or false\n",
    "\tPosition position on the pitch\n",
    "\tJersey Number jersey number\n",
    "\tJoined joined date\n",
    "\tLoaned From club name if applicable\n",
    "\tContract Valid Until contract end date\n",
    "\tHeight height of the player\n",
    "\tWeight weight of the player\n",
    "\tLS rating on scale of 100\n",
    "\tST rating on scale of 100\n",
    "\tRS rating on scale of 100\n",
    "\tLW rating on scale of 100\n",
    "\tLF rating on scale of 100\n",
    "\tCF rating on scale of 100\n",
    "\tRF rating on scale of 100\n",
    "\tRW rating on scale of 100\n",
    "\tLAM rating on scale of 100\n",
    "\tCAM rating on scale of 100\n",
    "\tRAM rating on scale of 100\n",
    "\tLM rating on scale of 100\n",
    "\tLCM rating on scale of 100\n",
    "\tCM rating on scale of 100\n",
    "\tRCM rating on scale of 100\n",
    "\tRM rating on scale of 100\n",
    "\tLWB rating on scale of 100\n",
    "\tLDM rating on scale of 100\n",
    "\tCDM rating on scale of 100\n",
    "\tRDM rating on scale of 100\n",
    "\tRWB rating on scale of 100\n",
    "\tLB rating on scale of 100\n",
    "\tLCB rating on scale of 100\n",
    "\tCB rating on scale of 100\n",
    "\tRCB rating on scale of 100\n",
    "\tRB rating on scale of 100\n",
    "\tCrossing rating on scale of 100\n",
    "\tFinishing rating on scale of 100\n",
    "\tHeadingAccuracy rating on scale of 100\n",
    "\tShortPassing rating on scale of 100\n",
    "\tVolleys rating on scale of 100\n",
    "\tDribbling rating on scale of 100\n",
    "\tCurve rating on scale of 100\n",
    "\tFKAccuracy rating on scale of 100\n",
    "\tLongPassing rating on scale of 100\n",
    "\tBallControl rating on scale of 100\n",
    "\tAcceleration rating on scale of 100\n",
    "\tSprintSpeed rating on scale of 100\n",
    "\tAgility rating on scale of 100\n",
    "\tReactions rating on scale of 100\n",
    "\tBalance rating on scale of 100\n",
    "\tShotPower rating on scale of 100\n",
    "\tJumping rating on scale of 100\n",
    "\tStamina rating on scale of 100\n",
    "\tStrength rating on scale of 100\n",
    "\tLongShots rating on scale of 100\n",
    "\tAggression rating on scale of 100\n",
    "\tInterceptions rating on scale of 100\n",
    "\tPositioning rating on scale of 100\n",
    "\tVision rating on scale of 100\n",
    "\tPenalties rating on scale of 100\n",
    "\tComposure rating on scale of 100\n",
    "\tMarking rating on scale of 100\n",
    "\tStandingTackle rating on scale of 100\n",
    "\tSlidingTackle rating on scale of 100\n",
    "\tGKDiving rating on scale of 100\n",
    "\tGKHandling rating on scale of 100\n",
    "\tGKKicking rating on scale of 100\n",
    "\tGKPositioning rating on scale of 100\n",
    "\tGKReflexes rating on scale of 100\n",
    "\tRelease Clause release clause value\n",
    "\n",
    "With this information we want to decide which are the best football players for our client to buy in the game's career mode, in order to achieve better results without spending lots of money."
   ]
  },
  {
   "cell_type": "markdown",
   "metadata": {},
   "source": [
    "## Data Description"
   ]
  },
  {
   "cell_type": "markdown",
   "metadata": {},
   "source": [
    "First, we will import the libraries that we will use."
   ]
  },
  {
   "cell_type": "code",
   "execution_count": 1,
   "metadata": {},
   "outputs": [],
   "source": [
    "import pandas as pd\n",
    "import numpy as np\n",
    "import matplotlib.pyplot as plt\n",
    "import seaborn as sns"
   ]
  },
  {
   "cell_type": "markdown",
   "metadata": {},
   "source": [
    "Secondly, we will import our database and observe some of the data."
   ]
  },
  {
   "cell_type": "code",
   "execution_count": 2,
   "metadata": {},
   "outputs": [
    {
     "data": {
      "text/html": [
       "<div>\n",
       "<style scoped>\n",
       "    .dataframe tbody tr th:only-of-type {\n",
       "        vertical-align: middle;\n",
       "    }\n",
       "\n",
       "    .dataframe tbody tr th {\n",
       "        vertical-align: top;\n",
       "    }\n",
       "\n",
       "    .dataframe thead th {\n",
       "        text-align: right;\n",
       "    }\n",
       "</style>\n",
       "<table border=\"1\" class=\"dataframe\">\n",
       "  <thead>\n",
       "    <tr style=\"text-align: right;\">\n",
       "      <th></th>\n",
       "      <th>Unnamed: 0</th>\n",
       "      <th>ID</th>\n",
       "      <th>Name</th>\n",
       "      <th>Age</th>\n",
       "      <th>Photo</th>\n",
       "      <th>Nationality</th>\n",
       "      <th>Flag</th>\n",
       "      <th>Overall</th>\n",
       "      <th>Potential</th>\n",
       "      <th>Club</th>\n",
       "      <th>...</th>\n",
       "      <th>Composure</th>\n",
       "      <th>Marking</th>\n",
       "      <th>StandingTackle</th>\n",
       "      <th>SlidingTackle</th>\n",
       "      <th>GKDiving</th>\n",
       "      <th>GKHandling</th>\n",
       "      <th>GKKicking</th>\n",
       "      <th>GKPositioning</th>\n",
       "      <th>GKReflexes</th>\n",
       "      <th>Release Clause</th>\n",
       "    </tr>\n",
       "  </thead>\n",
       "  <tbody>\n",
       "    <tr>\n",
       "      <th>0</th>\n",
       "      <td>0</td>\n",
       "      <td>158023</td>\n",
       "      <td>L. Messi</td>\n",
       "      <td>31</td>\n",
       "      <td>https://cdn.sofifa.org/players/4/19/158023.png</td>\n",
       "      <td>Argentina</td>\n",
       "      <td>https://cdn.sofifa.org/flags/52.png</td>\n",
       "      <td>94</td>\n",
       "      <td>94</td>\n",
       "      <td>FC Barcelona</td>\n",
       "      <td>...</td>\n",
       "      <td>96.0</td>\n",
       "      <td>33.0</td>\n",
       "      <td>28.0</td>\n",
       "      <td>26.0</td>\n",
       "      <td>6.0</td>\n",
       "      <td>11.0</td>\n",
       "      <td>15.0</td>\n",
       "      <td>14.0</td>\n",
       "      <td>8.0</td>\n",
       "      <td>€226.5M</td>\n",
       "    </tr>\n",
       "    <tr>\n",
       "      <th>1</th>\n",
       "      <td>1</td>\n",
       "      <td>20801</td>\n",
       "      <td>Cristiano Ronaldo</td>\n",
       "      <td>33</td>\n",
       "      <td>https://cdn.sofifa.org/players/4/19/20801.png</td>\n",
       "      <td>Portugal</td>\n",
       "      <td>https://cdn.sofifa.org/flags/38.png</td>\n",
       "      <td>94</td>\n",
       "      <td>94</td>\n",
       "      <td>Juventus</td>\n",
       "      <td>...</td>\n",
       "      <td>95.0</td>\n",
       "      <td>28.0</td>\n",
       "      <td>31.0</td>\n",
       "      <td>23.0</td>\n",
       "      <td>7.0</td>\n",
       "      <td>11.0</td>\n",
       "      <td>15.0</td>\n",
       "      <td>14.0</td>\n",
       "      <td>11.0</td>\n",
       "      <td>€127.1M</td>\n",
       "    </tr>\n",
       "    <tr>\n",
       "      <th>2</th>\n",
       "      <td>2</td>\n",
       "      <td>190871</td>\n",
       "      <td>Neymar Jr</td>\n",
       "      <td>26</td>\n",
       "      <td>https://cdn.sofifa.org/players/4/19/190871.png</td>\n",
       "      <td>Brazil</td>\n",
       "      <td>https://cdn.sofifa.org/flags/54.png</td>\n",
       "      <td>92</td>\n",
       "      <td>93</td>\n",
       "      <td>Paris Saint-Germain</td>\n",
       "      <td>...</td>\n",
       "      <td>94.0</td>\n",
       "      <td>27.0</td>\n",
       "      <td>24.0</td>\n",
       "      <td>33.0</td>\n",
       "      <td>9.0</td>\n",
       "      <td>9.0</td>\n",
       "      <td>15.0</td>\n",
       "      <td>15.0</td>\n",
       "      <td>11.0</td>\n",
       "      <td>€228.1M</td>\n",
       "    </tr>\n",
       "    <tr>\n",
       "      <th>3</th>\n",
       "      <td>3</td>\n",
       "      <td>193080</td>\n",
       "      <td>De Gea</td>\n",
       "      <td>27</td>\n",
       "      <td>https://cdn.sofifa.org/players/4/19/193080.png</td>\n",
       "      <td>Spain</td>\n",
       "      <td>https://cdn.sofifa.org/flags/45.png</td>\n",
       "      <td>91</td>\n",
       "      <td>93</td>\n",
       "      <td>Manchester United</td>\n",
       "      <td>...</td>\n",
       "      <td>68.0</td>\n",
       "      <td>15.0</td>\n",
       "      <td>21.0</td>\n",
       "      <td>13.0</td>\n",
       "      <td>90.0</td>\n",
       "      <td>85.0</td>\n",
       "      <td>87.0</td>\n",
       "      <td>88.0</td>\n",
       "      <td>94.0</td>\n",
       "      <td>€138.6M</td>\n",
       "    </tr>\n",
       "    <tr>\n",
       "      <th>4</th>\n",
       "      <td>4</td>\n",
       "      <td>192985</td>\n",
       "      <td>K. De Bruyne</td>\n",
       "      <td>27</td>\n",
       "      <td>https://cdn.sofifa.org/players/4/19/192985.png</td>\n",
       "      <td>Belgium</td>\n",
       "      <td>https://cdn.sofifa.org/flags/7.png</td>\n",
       "      <td>91</td>\n",
       "      <td>92</td>\n",
       "      <td>Manchester City</td>\n",
       "      <td>...</td>\n",
       "      <td>88.0</td>\n",
       "      <td>68.0</td>\n",
       "      <td>58.0</td>\n",
       "      <td>51.0</td>\n",
       "      <td>15.0</td>\n",
       "      <td>13.0</td>\n",
       "      <td>5.0</td>\n",
       "      <td>10.0</td>\n",
       "      <td>13.0</td>\n",
       "      <td>€196.4M</td>\n",
       "    </tr>\n",
       "  </tbody>\n",
       "</table>\n",
       "<p>5 rows × 89 columns</p>\n",
       "</div>"
      ],
      "text/plain": [
       "   Unnamed: 0      ID               Name  Age  \\\n",
       "0           0  158023           L. Messi   31   \n",
       "1           1   20801  Cristiano Ronaldo   33   \n",
       "2           2  190871          Neymar Jr   26   \n",
       "3           3  193080             De Gea   27   \n",
       "4           4  192985       K. De Bruyne   27   \n",
       "\n",
       "                                            Photo Nationality  \\\n",
       "0  https://cdn.sofifa.org/players/4/19/158023.png   Argentina   \n",
       "1   https://cdn.sofifa.org/players/4/19/20801.png    Portugal   \n",
       "2  https://cdn.sofifa.org/players/4/19/190871.png      Brazil   \n",
       "3  https://cdn.sofifa.org/players/4/19/193080.png       Spain   \n",
       "4  https://cdn.sofifa.org/players/4/19/192985.png     Belgium   \n",
       "\n",
       "                                  Flag  Overall  Potential  \\\n",
       "0  https://cdn.sofifa.org/flags/52.png       94         94   \n",
       "1  https://cdn.sofifa.org/flags/38.png       94         94   \n",
       "2  https://cdn.sofifa.org/flags/54.png       92         93   \n",
       "3  https://cdn.sofifa.org/flags/45.png       91         93   \n",
       "4   https://cdn.sofifa.org/flags/7.png       91         92   \n",
       "\n",
       "                  Club  ... Composure Marking StandingTackle  SlidingTackle  \\\n",
       "0         FC Barcelona  ...      96.0    33.0           28.0           26.0   \n",
       "1             Juventus  ...      95.0    28.0           31.0           23.0   \n",
       "2  Paris Saint-Germain  ...      94.0    27.0           24.0           33.0   \n",
       "3    Manchester United  ...      68.0    15.0           21.0           13.0   \n",
       "4      Manchester City  ...      88.0    68.0           58.0           51.0   \n",
       "\n",
       "  GKDiving  GKHandling  GKKicking  GKPositioning GKReflexes Release Clause  \n",
       "0      6.0        11.0       15.0           14.0        8.0        €226.5M  \n",
       "1      7.0        11.0       15.0           14.0       11.0        €127.1M  \n",
       "2      9.0         9.0       15.0           15.0       11.0        €228.1M  \n",
       "3     90.0        85.0       87.0           88.0       94.0        €138.6M  \n",
       "4     15.0        13.0        5.0           10.0       13.0        €196.4M  \n",
       "\n",
       "[5 rows x 89 columns]"
      ]
     },
     "execution_count": 2,
     "metadata": {},
     "output_type": "execute_result"
    }
   ],
   "source": [
    "df = pd.read_csv('C:/Users/User/Desktop/MI/ClusteringNoPlus.csv')\n",
    "df.head()"
   ]
  },
  {
   "cell_type": "markdown",
   "metadata": {},
   "source": [
    "To understand better our database, we can look at the statistical values of our data."
   ]
  },
  {
   "cell_type": "code",
   "execution_count": 3,
   "metadata": {},
   "outputs": [
    {
     "data": {
      "text/html": [
       "<div>\n",
       "<style scoped>\n",
       "    .dataframe tbody tr th:only-of-type {\n",
       "        vertical-align: middle;\n",
       "    }\n",
       "\n",
       "    .dataframe tbody tr th {\n",
       "        vertical-align: top;\n",
       "    }\n",
       "\n",
       "    .dataframe thead th {\n",
       "        text-align: right;\n",
       "    }\n",
       "</style>\n",
       "<table border=\"1\" class=\"dataframe\">\n",
       "  <thead>\n",
       "    <tr style=\"text-align: right;\">\n",
       "      <th></th>\n",
       "      <th>count</th>\n",
       "      <th>mean</th>\n",
       "      <th>std</th>\n",
       "      <th>min</th>\n",
       "      <th>25%</th>\n",
       "      <th>50%</th>\n",
       "      <th>75%</th>\n",
       "      <th>max</th>\n",
       "    </tr>\n",
       "  </thead>\n",
       "  <tbody>\n",
       "    <tr>\n",
       "      <th>Unnamed: 0</th>\n",
       "      <td>18207.0</td>\n",
       "      <td>9103.000000</td>\n",
       "      <td>5256.052511</td>\n",
       "      <td>0.0</td>\n",
       "      <td>4551.5</td>\n",
       "      <td>9103.0</td>\n",
       "      <td>13654.5</td>\n",
       "      <td>18206.0</td>\n",
       "    </tr>\n",
       "    <tr>\n",
       "      <th>ID</th>\n",
       "      <td>18207.0</td>\n",
       "      <td>214298.338606</td>\n",
       "      <td>29965.244204</td>\n",
       "      <td>16.0</td>\n",
       "      <td>200315.5</td>\n",
       "      <td>221759.0</td>\n",
       "      <td>236529.5</td>\n",
       "      <td>246620.0</td>\n",
       "    </tr>\n",
       "    <tr>\n",
       "      <th>Age</th>\n",
       "      <td>18207.0</td>\n",
       "      <td>25.122206</td>\n",
       "      <td>4.669943</td>\n",
       "      <td>16.0</td>\n",
       "      <td>21.0</td>\n",
       "      <td>25.0</td>\n",
       "      <td>28.0</td>\n",
       "      <td>45.0</td>\n",
       "    </tr>\n",
       "    <tr>\n",
       "      <th>Overall</th>\n",
       "      <td>18207.0</td>\n",
       "      <td>66.238699</td>\n",
       "      <td>6.908930</td>\n",
       "      <td>46.0</td>\n",
       "      <td>62.0</td>\n",
       "      <td>66.0</td>\n",
       "      <td>71.0</td>\n",
       "      <td>94.0</td>\n",
       "    </tr>\n",
       "    <tr>\n",
       "      <th>Potential</th>\n",
       "      <td>18207.0</td>\n",
       "      <td>71.307299</td>\n",
       "      <td>6.136496</td>\n",
       "      <td>48.0</td>\n",
       "      <td>67.0</td>\n",
       "      <td>71.0</td>\n",
       "      <td>75.0</td>\n",
       "      <td>95.0</td>\n",
       "    </tr>\n",
       "    <tr>\n",
       "      <th>Special</th>\n",
       "      <td>18207.0</td>\n",
       "      <td>1597.809908</td>\n",
       "      <td>272.586016</td>\n",
       "      <td>731.0</td>\n",
       "      <td>1457.0</td>\n",
       "      <td>1635.0</td>\n",
       "      <td>1787.0</td>\n",
       "      <td>2346.0</td>\n",
       "    </tr>\n",
       "    <tr>\n",
       "      <th>International Reputation</th>\n",
       "      <td>18159.0</td>\n",
       "      <td>1.113222</td>\n",
       "      <td>0.394031</td>\n",
       "      <td>1.0</td>\n",
       "      <td>1.0</td>\n",
       "      <td>1.0</td>\n",
       "      <td>1.0</td>\n",
       "      <td>5.0</td>\n",
       "    </tr>\n",
       "    <tr>\n",
       "      <th>Weak Foot</th>\n",
       "      <td>18159.0</td>\n",
       "      <td>2.947299</td>\n",
       "      <td>0.660456</td>\n",
       "      <td>1.0</td>\n",
       "      <td>3.0</td>\n",
       "      <td>3.0</td>\n",
       "      <td>3.0</td>\n",
       "      <td>5.0</td>\n",
       "    </tr>\n",
       "    <tr>\n",
       "      <th>Skill Moves</th>\n",
       "      <td>18159.0</td>\n",
       "      <td>2.361308</td>\n",
       "      <td>0.756164</td>\n",
       "      <td>1.0</td>\n",
       "      <td>2.0</td>\n",
       "      <td>2.0</td>\n",
       "      <td>3.0</td>\n",
       "      <td>5.0</td>\n",
       "    </tr>\n",
       "    <tr>\n",
       "      <th>Jersey Number</th>\n",
       "      <td>18147.0</td>\n",
       "      <td>19.546096</td>\n",
       "      <td>15.947765</td>\n",
       "      <td>1.0</td>\n",
       "      <td>8.0</td>\n",
       "      <td>17.0</td>\n",
       "      <td>26.0</td>\n",
       "      <td>99.0</td>\n",
       "    </tr>\n",
       "    <tr>\n",
       "      <th>LS</th>\n",
       "      <td>16122.0</td>\n",
       "      <td>59.836000</td>\n",
       "      <td>9.142763</td>\n",
       "      <td>33.0</td>\n",
       "      <td>54.0</td>\n",
       "      <td>60.0</td>\n",
       "      <td>66.0</td>\n",
       "      <td>94.0</td>\n",
       "    </tr>\n",
       "    <tr>\n",
       "      <th>ST</th>\n",
       "      <td>16122.0</td>\n",
       "      <td>59.836000</td>\n",
       "      <td>9.142763</td>\n",
       "      <td>33.0</td>\n",
       "      <td>54.0</td>\n",
       "      <td>60.0</td>\n",
       "      <td>66.0</td>\n",
       "      <td>94.0</td>\n",
       "    </tr>\n",
       "    <tr>\n",
       "      <th>RS</th>\n",
       "      <td>16122.0</td>\n",
       "      <td>59.836000</td>\n",
       "      <td>9.142763</td>\n",
       "      <td>33.0</td>\n",
       "      <td>54.0</td>\n",
       "      <td>60.0</td>\n",
       "      <td>66.0</td>\n",
       "      <td>94.0</td>\n",
       "    </tr>\n",
       "    <tr>\n",
       "      <th>LW</th>\n",
       "      <td>16122.0</td>\n",
       "      <td>61.058181</td>\n",
       "      <td>9.891451</td>\n",
       "      <td>27.0</td>\n",
       "      <td>55.0</td>\n",
       "      <td>62.0</td>\n",
       "      <td>68.0</td>\n",
       "      <td>94.0</td>\n",
       "    </tr>\n",
       "    <tr>\n",
       "      <th>LF</th>\n",
       "      <td>16122.0</td>\n",
       "      <td>60.739921</td>\n",
       "      <td>9.853478</td>\n",
       "      <td>29.0</td>\n",
       "      <td>55.0</td>\n",
       "      <td>62.0</td>\n",
       "      <td>68.0</td>\n",
       "      <td>95.0</td>\n",
       "    </tr>\n",
       "    <tr>\n",
       "      <th>CF</th>\n",
       "      <td>16122.0</td>\n",
       "      <td>60.739921</td>\n",
       "      <td>9.853478</td>\n",
       "      <td>29.0</td>\n",
       "      <td>55.0</td>\n",
       "      <td>62.0</td>\n",
       "      <td>68.0</td>\n",
       "      <td>95.0</td>\n",
       "    </tr>\n",
       "    <tr>\n",
       "      <th>RF</th>\n",
       "      <td>16122.0</td>\n",
       "      <td>60.739921</td>\n",
       "      <td>9.853478</td>\n",
       "      <td>29.0</td>\n",
       "      <td>55.0</td>\n",
       "      <td>62.0</td>\n",
       "      <td>68.0</td>\n",
       "      <td>95.0</td>\n",
       "    </tr>\n",
       "    <tr>\n",
       "      <th>RW</th>\n",
       "      <td>16122.0</td>\n",
       "      <td>61.058181</td>\n",
       "      <td>9.891451</td>\n",
       "      <td>27.0</td>\n",
       "      <td>55.0</td>\n",
       "      <td>62.0</td>\n",
       "      <td>68.0</td>\n",
       "      <td>94.0</td>\n",
       "    </tr>\n",
       "    <tr>\n",
       "      <th>LAM</th>\n",
       "      <td>16122.0</td>\n",
       "      <td>61.003660</td>\n",
       "      <td>9.782895</td>\n",
       "      <td>29.0</td>\n",
       "      <td>55.0</td>\n",
       "      <td>62.0</td>\n",
       "      <td>68.0</td>\n",
       "      <td>95.0</td>\n",
       "    </tr>\n",
       "    <tr>\n",
       "      <th>CAM</th>\n",
       "      <td>16122.0</td>\n",
       "      <td>61.003660</td>\n",
       "      <td>9.782895</td>\n",
       "      <td>29.0</td>\n",
       "      <td>55.0</td>\n",
       "      <td>62.0</td>\n",
       "      <td>68.0</td>\n",
       "      <td>95.0</td>\n",
       "    </tr>\n",
       "    <tr>\n",
       "      <th>RAM</th>\n",
       "      <td>16122.0</td>\n",
       "      <td>61.003660</td>\n",
       "      <td>9.782895</td>\n",
       "      <td>29.0</td>\n",
       "      <td>55.0</td>\n",
       "      <td>62.0</td>\n",
       "      <td>68.0</td>\n",
       "      <td>95.0</td>\n",
       "    </tr>\n",
       "    <tr>\n",
       "      <th>LM</th>\n",
       "      <td>16122.0</td>\n",
       "      <td>61.755241</td>\n",
       "      <td>9.264765</td>\n",
       "      <td>29.0</td>\n",
       "      <td>56.0</td>\n",
       "      <td>63.0</td>\n",
       "      <td>68.0</td>\n",
       "      <td>93.0</td>\n",
       "    </tr>\n",
       "    <tr>\n",
       "      <th>LCM</th>\n",
       "      <td>16122.0</td>\n",
       "      <td>60.241409</td>\n",
       "      <td>8.817549</td>\n",
       "      <td>32.0</td>\n",
       "      <td>54.0</td>\n",
       "      <td>61.0</td>\n",
       "      <td>66.0</td>\n",
       "      <td>91.0</td>\n",
       "    </tr>\n",
       "    <tr>\n",
       "      <th>CM</th>\n",
       "      <td>16122.0</td>\n",
       "      <td>60.241409</td>\n",
       "      <td>8.817549</td>\n",
       "      <td>32.0</td>\n",
       "      <td>54.0</td>\n",
       "      <td>61.0</td>\n",
       "      <td>66.0</td>\n",
       "      <td>91.0</td>\n",
       "    </tr>\n",
       "    <tr>\n",
       "      <th>RCM</th>\n",
       "      <td>16122.0</td>\n",
       "      <td>60.241409</td>\n",
       "      <td>8.817549</td>\n",
       "      <td>32.0</td>\n",
       "      <td>54.0</td>\n",
       "      <td>61.0</td>\n",
       "      <td>66.0</td>\n",
       "      <td>91.0</td>\n",
       "    </tr>\n",
       "    <tr>\n",
       "      <th>RM</th>\n",
       "      <td>16122.0</td>\n",
       "      <td>61.755241</td>\n",
       "      <td>9.264765</td>\n",
       "      <td>29.0</td>\n",
       "      <td>56.0</td>\n",
       "      <td>63.0</td>\n",
       "      <td>68.0</td>\n",
       "      <td>93.0</td>\n",
       "    </tr>\n",
       "    <tr>\n",
       "      <th>LWB</th>\n",
       "      <td>16122.0</td>\n",
       "      <td>59.533805</td>\n",
       "      <td>8.982024</td>\n",
       "      <td>32.0</td>\n",
       "      <td>53.0</td>\n",
       "      <td>60.0</td>\n",
       "      <td>66.0</td>\n",
       "      <td>88.0</td>\n",
       "    </tr>\n",
       "    <tr>\n",
       "      <th>LDM</th>\n",
       "      <td>16122.0</td>\n",
       "      <td>58.845677</td>\n",
       "      <td>10.093232</td>\n",
       "      <td>30.0</td>\n",
       "      <td>51.0</td>\n",
       "      <td>60.0</td>\n",
       "      <td>66.0</td>\n",
       "      <td>90.0</td>\n",
       "    </tr>\n",
       "    <tr>\n",
       "      <th>CDM</th>\n",
       "      <td>16122.0</td>\n",
       "      <td>58.845677</td>\n",
       "      <td>10.093232</td>\n",
       "      <td>30.0</td>\n",
       "      <td>51.0</td>\n",
       "      <td>60.0</td>\n",
       "      <td>66.0</td>\n",
       "      <td>90.0</td>\n",
       "    </tr>\n",
       "    <tr>\n",
       "      <th>RDM</th>\n",
       "      <td>16122.0</td>\n",
       "      <td>58.845677</td>\n",
       "      <td>10.093232</td>\n",
       "      <td>30.0</td>\n",
       "      <td>51.0</td>\n",
       "      <td>60.0</td>\n",
       "      <td>66.0</td>\n",
       "      <td>90.0</td>\n",
       "    </tr>\n",
       "    <tr>\n",
       "      <th>...</th>\n",
       "      <td>...</td>\n",
       "      <td>...</td>\n",
       "      <td>...</td>\n",
       "      <td>...</td>\n",
       "      <td>...</td>\n",
       "      <td>...</td>\n",
       "      <td>...</td>\n",
       "      <td>...</td>\n",
       "    </tr>\n",
       "    <tr>\n",
       "      <th>Volleys</th>\n",
       "      <td>18159.0</td>\n",
       "      <td>42.909026</td>\n",
       "      <td>17.694408</td>\n",
       "      <td>4.0</td>\n",
       "      <td>30.0</td>\n",
       "      <td>44.0</td>\n",
       "      <td>57.0</td>\n",
       "      <td>90.0</td>\n",
       "    </tr>\n",
       "    <tr>\n",
       "      <th>Dribbling</th>\n",
       "      <td>18159.0</td>\n",
       "      <td>55.371001</td>\n",
       "      <td>18.910371</td>\n",
       "      <td>4.0</td>\n",
       "      <td>49.0</td>\n",
       "      <td>61.0</td>\n",
       "      <td>68.0</td>\n",
       "      <td>97.0</td>\n",
       "    </tr>\n",
       "    <tr>\n",
       "      <th>Curve</th>\n",
       "      <td>18159.0</td>\n",
       "      <td>47.170824</td>\n",
       "      <td>18.395264</td>\n",
       "      <td>6.0</td>\n",
       "      <td>34.0</td>\n",
       "      <td>48.0</td>\n",
       "      <td>62.0</td>\n",
       "      <td>94.0</td>\n",
       "    </tr>\n",
       "    <tr>\n",
       "      <th>FKAccuracy</th>\n",
       "      <td>18159.0</td>\n",
       "      <td>42.863153</td>\n",
       "      <td>17.478763</td>\n",
       "      <td>3.0</td>\n",
       "      <td>31.0</td>\n",
       "      <td>41.0</td>\n",
       "      <td>57.0</td>\n",
       "      <td>94.0</td>\n",
       "    </tr>\n",
       "    <tr>\n",
       "      <th>LongPassing</th>\n",
       "      <td>18159.0</td>\n",
       "      <td>52.711933</td>\n",
       "      <td>15.327870</td>\n",
       "      <td>9.0</td>\n",
       "      <td>43.0</td>\n",
       "      <td>56.0</td>\n",
       "      <td>64.0</td>\n",
       "      <td>93.0</td>\n",
       "    </tr>\n",
       "    <tr>\n",
       "      <th>BallControl</th>\n",
       "      <td>18159.0</td>\n",
       "      <td>58.369459</td>\n",
       "      <td>16.686595</td>\n",
       "      <td>5.0</td>\n",
       "      <td>54.0</td>\n",
       "      <td>63.0</td>\n",
       "      <td>69.0</td>\n",
       "      <td>96.0</td>\n",
       "    </tr>\n",
       "    <tr>\n",
       "      <th>Acceleration</th>\n",
       "      <td>18159.0</td>\n",
       "      <td>64.614076</td>\n",
       "      <td>14.927780</td>\n",
       "      <td>12.0</td>\n",
       "      <td>57.0</td>\n",
       "      <td>67.0</td>\n",
       "      <td>75.0</td>\n",
       "      <td>97.0</td>\n",
       "    </tr>\n",
       "    <tr>\n",
       "      <th>SprintSpeed</th>\n",
       "      <td>18159.0</td>\n",
       "      <td>64.726967</td>\n",
       "      <td>14.649953</td>\n",
       "      <td>12.0</td>\n",
       "      <td>57.0</td>\n",
       "      <td>67.0</td>\n",
       "      <td>75.0</td>\n",
       "      <td>96.0</td>\n",
       "    </tr>\n",
       "    <tr>\n",
       "      <th>Agility</th>\n",
       "      <td>18159.0</td>\n",
       "      <td>63.503607</td>\n",
       "      <td>14.766049</td>\n",
       "      <td>14.0</td>\n",
       "      <td>55.0</td>\n",
       "      <td>66.0</td>\n",
       "      <td>74.0</td>\n",
       "      <td>96.0</td>\n",
       "    </tr>\n",
       "    <tr>\n",
       "      <th>Reactions</th>\n",
       "      <td>18159.0</td>\n",
       "      <td>61.836610</td>\n",
       "      <td>9.010464</td>\n",
       "      <td>21.0</td>\n",
       "      <td>56.0</td>\n",
       "      <td>62.0</td>\n",
       "      <td>68.0</td>\n",
       "      <td>96.0</td>\n",
       "    </tr>\n",
       "    <tr>\n",
       "      <th>Balance</th>\n",
       "      <td>18159.0</td>\n",
       "      <td>63.966573</td>\n",
       "      <td>14.136166</td>\n",
       "      <td>16.0</td>\n",
       "      <td>56.0</td>\n",
       "      <td>66.0</td>\n",
       "      <td>74.0</td>\n",
       "      <td>96.0</td>\n",
       "    </tr>\n",
       "    <tr>\n",
       "      <th>ShotPower</th>\n",
       "      <td>18159.0</td>\n",
       "      <td>55.460047</td>\n",
       "      <td>17.237958</td>\n",
       "      <td>2.0</td>\n",
       "      <td>45.0</td>\n",
       "      <td>59.0</td>\n",
       "      <td>68.0</td>\n",
       "      <td>95.0</td>\n",
       "    </tr>\n",
       "    <tr>\n",
       "      <th>Jumping</th>\n",
       "      <td>18159.0</td>\n",
       "      <td>65.089432</td>\n",
       "      <td>11.820044</td>\n",
       "      <td>15.0</td>\n",
       "      <td>58.0</td>\n",
       "      <td>66.0</td>\n",
       "      <td>73.0</td>\n",
       "      <td>95.0</td>\n",
       "    </tr>\n",
       "    <tr>\n",
       "      <th>Stamina</th>\n",
       "      <td>18159.0</td>\n",
       "      <td>63.219946</td>\n",
       "      <td>15.894741</td>\n",
       "      <td>12.0</td>\n",
       "      <td>56.0</td>\n",
       "      <td>66.0</td>\n",
       "      <td>74.0</td>\n",
       "      <td>96.0</td>\n",
       "    </tr>\n",
       "    <tr>\n",
       "      <th>Strength</th>\n",
       "      <td>18159.0</td>\n",
       "      <td>65.311967</td>\n",
       "      <td>12.557000</td>\n",
       "      <td>17.0</td>\n",
       "      <td>58.0</td>\n",
       "      <td>67.0</td>\n",
       "      <td>74.0</td>\n",
       "      <td>97.0</td>\n",
       "    </tr>\n",
       "    <tr>\n",
       "      <th>LongShots</th>\n",
       "      <td>18159.0</td>\n",
       "      <td>47.109973</td>\n",
       "      <td>19.260524</td>\n",
       "      <td>3.0</td>\n",
       "      <td>33.0</td>\n",
       "      <td>51.0</td>\n",
       "      <td>62.0</td>\n",
       "      <td>94.0</td>\n",
       "    </tr>\n",
       "    <tr>\n",
       "      <th>Aggression</th>\n",
       "      <td>18159.0</td>\n",
       "      <td>55.868991</td>\n",
       "      <td>17.367967</td>\n",
       "      <td>11.0</td>\n",
       "      <td>44.0</td>\n",
       "      <td>59.0</td>\n",
       "      <td>69.0</td>\n",
       "      <td>95.0</td>\n",
       "    </tr>\n",
       "    <tr>\n",
       "      <th>Interceptions</th>\n",
       "      <td>18159.0</td>\n",
       "      <td>46.698276</td>\n",
       "      <td>20.696909</td>\n",
       "      <td>3.0</td>\n",
       "      <td>26.0</td>\n",
       "      <td>52.0</td>\n",
       "      <td>64.0</td>\n",
       "      <td>92.0</td>\n",
       "    </tr>\n",
       "    <tr>\n",
       "      <th>Positioning</th>\n",
       "      <td>18159.0</td>\n",
       "      <td>49.958478</td>\n",
       "      <td>19.529036</td>\n",
       "      <td>2.0</td>\n",
       "      <td>38.0</td>\n",
       "      <td>55.0</td>\n",
       "      <td>64.0</td>\n",
       "      <td>95.0</td>\n",
       "    </tr>\n",
       "    <tr>\n",
       "      <th>Vision</th>\n",
       "      <td>18159.0</td>\n",
       "      <td>53.400903</td>\n",
       "      <td>14.146881</td>\n",
       "      <td>10.0</td>\n",
       "      <td>44.0</td>\n",
       "      <td>55.0</td>\n",
       "      <td>64.0</td>\n",
       "      <td>94.0</td>\n",
       "    </tr>\n",
       "    <tr>\n",
       "      <th>Penalties</th>\n",
       "      <td>18159.0</td>\n",
       "      <td>48.548598</td>\n",
       "      <td>15.704053</td>\n",
       "      <td>5.0</td>\n",
       "      <td>39.0</td>\n",
       "      <td>49.0</td>\n",
       "      <td>60.0</td>\n",
       "      <td>92.0</td>\n",
       "    </tr>\n",
       "    <tr>\n",
       "      <th>Composure</th>\n",
       "      <td>18159.0</td>\n",
       "      <td>58.648274</td>\n",
       "      <td>11.436133</td>\n",
       "      <td>3.0</td>\n",
       "      <td>51.0</td>\n",
       "      <td>60.0</td>\n",
       "      <td>67.0</td>\n",
       "      <td>96.0</td>\n",
       "    </tr>\n",
       "    <tr>\n",
       "      <th>Marking</th>\n",
       "      <td>18159.0</td>\n",
       "      <td>47.281623</td>\n",
       "      <td>19.904397</td>\n",
       "      <td>3.0</td>\n",
       "      <td>30.0</td>\n",
       "      <td>53.0</td>\n",
       "      <td>64.0</td>\n",
       "      <td>94.0</td>\n",
       "    </tr>\n",
       "    <tr>\n",
       "      <th>StandingTackle</th>\n",
       "      <td>18159.0</td>\n",
       "      <td>47.697836</td>\n",
       "      <td>21.664004</td>\n",
       "      <td>2.0</td>\n",
       "      <td>27.0</td>\n",
       "      <td>55.0</td>\n",
       "      <td>66.0</td>\n",
       "      <td>93.0</td>\n",
       "    </tr>\n",
       "    <tr>\n",
       "      <th>SlidingTackle</th>\n",
       "      <td>18159.0</td>\n",
       "      <td>45.661435</td>\n",
       "      <td>21.289135</td>\n",
       "      <td>3.0</td>\n",
       "      <td>24.0</td>\n",
       "      <td>52.0</td>\n",
       "      <td>64.0</td>\n",
       "      <td>91.0</td>\n",
       "    </tr>\n",
       "    <tr>\n",
       "      <th>GKDiving</th>\n",
       "      <td>18159.0</td>\n",
       "      <td>16.616223</td>\n",
       "      <td>17.695349</td>\n",
       "      <td>1.0</td>\n",
       "      <td>8.0</td>\n",
       "      <td>11.0</td>\n",
       "      <td>14.0</td>\n",
       "      <td>90.0</td>\n",
       "    </tr>\n",
       "    <tr>\n",
       "      <th>GKHandling</th>\n",
       "      <td>18159.0</td>\n",
       "      <td>16.391596</td>\n",
       "      <td>16.906900</td>\n",
       "      <td>1.0</td>\n",
       "      <td>8.0</td>\n",
       "      <td>11.0</td>\n",
       "      <td>14.0</td>\n",
       "      <td>92.0</td>\n",
       "    </tr>\n",
       "    <tr>\n",
       "      <th>GKKicking</th>\n",
       "      <td>18159.0</td>\n",
       "      <td>16.232061</td>\n",
       "      <td>16.502864</td>\n",
       "      <td>1.0</td>\n",
       "      <td>8.0</td>\n",
       "      <td>11.0</td>\n",
       "      <td>14.0</td>\n",
       "      <td>91.0</td>\n",
       "    </tr>\n",
       "    <tr>\n",
       "      <th>GKPositioning</th>\n",
       "      <td>18159.0</td>\n",
       "      <td>16.388898</td>\n",
       "      <td>17.034669</td>\n",
       "      <td>1.0</td>\n",
       "      <td>8.0</td>\n",
       "      <td>11.0</td>\n",
       "      <td>14.0</td>\n",
       "      <td>90.0</td>\n",
       "    </tr>\n",
       "    <tr>\n",
       "      <th>GKReflexes</th>\n",
       "      <td>18159.0</td>\n",
       "      <td>16.710887</td>\n",
       "      <td>17.955119</td>\n",
       "      <td>1.0</td>\n",
       "      <td>8.0</td>\n",
       "      <td>11.0</td>\n",
       "      <td>14.0</td>\n",
       "      <td>94.0</td>\n",
       "    </tr>\n",
       "  </tbody>\n",
       "</table>\n",
       "<p>70 rows × 8 columns</p>\n",
       "</div>"
      ],
      "text/plain": [
       "                            count           mean           std    min  \\\n",
       "Unnamed: 0                18207.0    9103.000000   5256.052511    0.0   \n",
       "ID                        18207.0  214298.338606  29965.244204   16.0   \n",
       "Age                       18207.0      25.122206      4.669943   16.0   \n",
       "Overall                   18207.0      66.238699      6.908930   46.0   \n",
       "Potential                 18207.0      71.307299      6.136496   48.0   \n",
       "Special                   18207.0    1597.809908    272.586016  731.0   \n",
       "International Reputation  18159.0       1.113222      0.394031    1.0   \n",
       "Weak Foot                 18159.0       2.947299      0.660456    1.0   \n",
       "Skill Moves               18159.0       2.361308      0.756164    1.0   \n",
       "Jersey Number             18147.0      19.546096     15.947765    1.0   \n",
       "LS                        16122.0      59.836000      9.142763   33.0   \n",
       "ST                        16122.0      59.836000      9.142763   33.0   \n",
       "RS                        16122.0      59.836000      9.142763   33.0   \n",
       "LW                        16122.0      61.058181      9.891451   27.0   \n",
       "LF                        16122.0      60.739921      9.853478   29.0   \n",
       "CF                        16122.0      60.739921      9.853478   29.0   \n",
       "RF                        16122.0      60.739921      9.853478   29.0   \n",
       "RW                        16122.0      61.058181      9.891451   27.0   \n",
       "LAM                       16122.0      61.003660      9.782895   29.0   \n",
       "CAM                       16122.0      61.003660      9.782895   29.0   \n",
       "RAM                       16122.0      61.003660      9.782895   29.0   \n",
       "LM                        16122.0      61.755241      9.264765   29.0   \n",
       "LCM                       16122.0      60.241409      8.817549   32.0   \n",
       "CM                        16122.0      60.241409      8.817549   32.0   \n",
       "RCM                       16122.0      60.241409      8.817549   32.0   \n",
       "RM                        16122.0      61.755241      9.264765   29.0   \n",
       "LWB                       16122.0      59.533805      8.982024   32.0   \n",
       "LDM                       16122.0      58.845677     10.093232   30.0   \n",
       "CDM                       16122.0      58.845677     10.093232   30.0   \n",
       "RDM                       16122.0      58.845677     10.093232   30.0   \n",
       "...                           ...            ...           ...    ...   \n",
       "Volleys                   18159.0      42.909026     17.694408    4.0   \n",
       "Dribbling                 18159.0      55.371001     18.910371    4.0   \n",
       "Curve                     18159.0      47.170824     18.395264    6.0   \n",
       "FKAccuracy                18159.0      42.863153     17.478763    3.0   \n",
       "LongPassing               18159.0      52.711933     15.327870    9.0   \n",
       "BallControl               18159.0      58.369459     16.686595    5.0   \n",
       "Acceleration              18159.0      64.614076     14.927780   12.0   \n",
       "SprintSpeed               18159.0      64.726967     14.649953   12.0   \n",
       "Agility                   18159.0      63.503607     14.766049   14.0   \n",
       "Reactions                 18159.0      61.836610      9.010464   21.0   \n",
       "Balance                   18159.0      63.966573     14.136166   16.0   \n",
       "ShotPower                 18159.0      55.460047     17.237958    2.0   \n",
       "Jumping                   18159.0      65.089432     11.820044   15.0   \n",
       "Stamina                   18159.0      63.219946     15.894741   12.0   \n",
       "Strength                  18159.0      65.311967     12.557000   17.0   \n",
       "LongShots                 18159.0      47.109973     19.260524    3.0   \n",
       "Aggression                18159.0      55.868991     17.367967   11.0   \n",
       "Interceptions             18159.0      46.698276     20.696909    3.0   \n",
       "Positioning               18159.0      49.958478     19.529036    2.0   \n",
       "Vision                    18159.0      53.400903     14.146881   10.0   \n",
       "Penalties                 18159.0      48.548598     15.704053    5.0   \n",
       "Composure                 18159.0      58.648274     11.436133    3.0   \n",
       "Marking                   18159.0      47.281623     19.904397    3.0   \n",
       "StandingTackle            18159.0      47.697836     21.664004    2.0   \n",
       "SlidingTackle             18159.0      45.661435     21.289135    3.0   \n",
       "GKDiving                  18159.0      16.616223     17.695349    1.0   \n",
       "GKHandling                18159.0      16.391596     16.906900    1.0   \n",
       "GKKicking                 18159.0      16.232061     16.502864    1.0   \n",
       "GKPositioning             18159.0      16.388898     17.034669    1.0   \n",
       "GKReflexes                18159.0      16.710887     17.955119    1.0   \n",
       "\n",
       "                               25%       50%       75%       max  \n",
       "Unnamed: 0                  4551.5    9103.0   13654.5   18206.0  \n",
       "ID                        200315.5  221759.0  236529.5  246620.0  \n",
       "Age                           21.0      25.0      28.0      45.0  \n",
       "Overall                       62.0      66.0      71.0      94.0  \n",
       "Potential                     67.0      71.0      75.0      95.0  \n",
       "Special                     1457.0    1635.0    1787.0    2346.0  \n",
       "International Reputation       1.0       1.0       1.0       5.0  \n",
       "Weak Foot                      3.0       3.0       3.0       5.0  \n",
       "Skill Moves                    2.0       2.0       3.0       5.0  \n",
       "Jersey Number                  8.0      17.0      26.0      99.0  \n",
       "LS                            54.0      60.0      66.0      94.0  \n",
       "ST                            54.0      60.0      66.0      94.0  \n",
       "RS                            54.0      60.0      66.0      94.0  \n",
       "LW                            55.0      62.0      68.0      94.0  \n",
       "LF                            55.0      62.0      68.0      95.0  \n",
       "CF                            55.0      62.0      68.0      95.0  \n",
       "RF                            55.0      62.0      68.0      95.0  \n",
       "RW                            55.0      62.0      68.0      94.0  \n",
       "LAM                           55.0      62.0      68.0      95.0  \n",
       "CAM                           55.0      62.0      68.0      95.0  \n",
       "RAM                           55.0      62.0      68.0      95.0  \n",
       "LM                            56.0      63.0      68.0      93.0  \n",
       "LCM                           54.0      61.0      66.0      91.0  \n",
       "CM                            54.0      61.0      66.0      91.0  \n",
       "RCM                           54.0      61.0      66.0      91.0  \n",
       "RM                            56.0      63.0      68.0      93.0  \n",
       "LWB                           53.0      60.0      66.0      88.0  \n",
       "LDM                           51.0      60.0      66.0      90.0  \n",
       "CDM                           51.0      60.0      66.0      90.0  \n",
       "RDM                           51.0      60.0      66.0      90.0  \n",
       "...                            ...       ...       ...       ...  \n",
       "Volleys                       30.0      44.0      57.0      90.0  \n",
       "Dribbling                     49.0      61.0      68.0      97.0  \n",
       "Curve                         34.0      48.0      62.0      94.0  \n",
       "FKAccuracy                    31.0      41.0      57.0      94.0  \n",
       "LongPassing                   43.0      56.0      64.0      93.0  \n",
       "BallControl                   54.0      63.0      69.0      96.0  \n",
       "Acceleration                  57.0      67.0      75.0      97.0  \n",
       "SprintSpeed                   57.0      67.0      75.0      96.0  \n",
       "Agility                       55.0      66.0      74.0      96.0  \n",
       "Reactions                     56.0      62.0      68.0      96.0  \n",
       "Balance                       56.0      66.0      74.0      96.0  \n",
       "ShotPower                     45.0      59.0      68.0      95.0  \n",
       "Jumping                       58.0      66.0      73.0      95.0  \n",
       "Stamina                       56.0      66.0      74.0      96.0  \n",
       "Strength                      58.0      67.0      74.0      97.0  \n",
       "LongShots                     33.0      51.0      62.0      94.0  \n",
       "Aggression                    44.0      59.0      69.0      95.0  \n",
       "Interceptions                 26.0      52.0      64.0      92.0  \n",
       "Positioning                   38.0      55.0      64.0      95.0  \n",
       "Vision                        44.0      55.0      64.0      94.0  \n",
       "Penalties                     39.0      49.0      60.0      92.0  \n",
       "Composure                     51.0      60.0      67.0      96.0  \n",
       "Marking                       30.0      53.0      64.0      94.0  \n",
       "StandingTackle                27.0      55.0      66.0      93.0  \n",
       "SlidingTackle                 24.0      52.0      64.0      91.0  \n",
       "GKDiving                       8.0      11.0      14.0      90.0  \n",
       "GKHandling                     8.0      11.0      14.0      92.0  \n",
       "GKKicking                      8.0      11.0      14.0      91.0  \n",
       "GKPositioning                  8.0      11.0      14.0      90.0  \n",
       "GKReflexes                     8.0      11.0      14.0      94.0  \n",
       "\n",
       "[70 rows x 8 columns]"
      ]
     },
     "execution_count": 3,
     "metadata": {},
     "output_type": "execute_result"
    }
   ],
   "source": [
    "df.describe().T"
   ]
  },
  {
   "cell_type": "code",
   "execution_count": 4,
   "metadata": {},
   "outputs": [
    {
     "name": "stdout",
     "output_type": "stream",
     "text": [
      "The database has the following shape:  (18207, 89) \n",
      "\n"
     ]
    }
   ],
   "source": [
    "print('The database has the following shape: ', df.shape, '\\n')"
   ]
  },
  {
   "cell_type": "markdown",
   "metadata": {},
   "source": [
    "It is also important to understand the null values in our database."
   ]
  },
  {
   "cell_type": "code",
   "execution_count": 5,
   "metadata": {
    "scrolled": true
   },
   "outputs": [
    {
     "data": {
      "text/plain": [
       "Unnamed: 0                      0\n",
       "ID                              0\n",
       "Name                            0\n",
       "Age                             0\n",
       "Photo                           0\n",
       "Nationality                     0\n",
       "Flag                            0\n",
       "Overall                         0\n",
       "Potential                       0\n",
       "Club                          241\n",
       "Club Logo                       0\n",
       "Value                           0\n",
       "Wage                            0\n",
       "Special                         0\n",
       "Preferred Foot                 48\n",
       "International Reputation       48\n",
       "Weak Foot                      48\n",
       "Skill Moves                    48\n",
       "Work Rate                      48\n",
       "Body Type                      48\n",
       "Real Face                      48\n",
       "Position                       60\n",
       "Jersey Number                  60\n",
       "Joined                       1553\n",
       "Loaned From                 16943\n",
       "Contract Valid Until          289\n",
       "Height                         48\n",
       "Weight                         48\n",
       "LS                           2085\n",
       "ST                           2085\n",
       "                            ...  \n",
       "Dribbling                      48\n",
       "Curve                          48\n",
       "FKAccuracy                     48\n",
       "LongPassing                    48\n",
       "BallControl                    48\n",
       "Acceleration                   48\n",
       "SprintSpeed                    48\n",
       "Agility                        48\n",
       "Reactions                      48\n",
       "Balance                        48\n",
       "ShotPower                      48\n",
       "Jumping                        48\n",
       "Stamina                        48\n",
       "Strength                       48\n",
       "LongShots                      48\n",
       "Aggression                     48\n",
       "Interceptions                  48\n",
       "Positioning                    48\n",
       "Vision                         48\n",
       "Penalties                      48\n",
       "Composure                      48\n",
       "Marking                        48\n",
       "StandingTackle                 48\n",
       "SlidingTackle                  48\n",
       "GKDiving                       48\n",
       "GKHandling                     48\n",
       "GKKicking                      48\n",
       "GKPositioning                  48\n",
       "GKReflexes                     48\n",
       "Release Clause               1564\n",
       "Length: 89, dtype: int64"
      ]
     },
     "execution_count": 5,
     "metadata": {},
     "output_type": "execute_result"
    }
   ],
   "source": [
    "df.isnull().sum()"
   ]
  },
  {
   "cell_type": "markdown",
   "metadata": {},
   "source": [
    "## Data Preparation"
   ]
  },
  {
   "cell_type": "markdown",
   "metadata": {},
   "source": [
    "Now we will start to arrange our data and fix the problems that the database can have.\n",
    "\n",
    "This is a very important part of the project because if the data isn't properly prepared, the results will not be trustable.\n",
    "\n",
    "In the original database we have all this variables, but during our analysis we will focus on the most important ones."
   ]
  },
  {
   "cell_type": "code",
   "execution_count": 6,
   "metadata": {},
   "outputs": [
    {
     "data": {
      "text/plain": [
       "Index(['Unnamed: 0', 'ID', 'Name', 'Age', 'Photo', 'Nationality', 'Flag',\n",
       "       'Overall', 'Potential', 'Club', 'Club Logo', 'Value', 'Wage', 'Special',\n",
       "       'Preferred Foot', 'International Reputation', 'Weak Foot',\n",
       "       'Skill Moves', 'Work Rate', 'Body Type', 'Real Face', 'Position',\n",
       "       'Jersey Number', 'Joined', 'Loaned From', 'Contract Valid Until',\n",
       "       'Height', 'Weight', 'LS', 'ST', 'RS', 'LW', 'LF', 'CF', 'RF', 'RW',\n",
       "       'LAM', 'CAM', 'RAM', 'LM', 'LCM', 'CM', 'RCM', 'RM', 'LWB', 'LDM',\n",
       "       'CDM', 'RDM', 'RWB', 'LB', 'LCB', 'CB', 'RCB', 'RB', 'Crossing',\n",
       "       'Finishing', 'HeadingAccuracy', 'ShortPassing', 'Volleys', 'Dribbling',\n",
       "       'Curve', 'FKAccuracy', 'LongPassing', 'BallControl', 'Acceleration',\n",
       "       'SprintSpeed', 'Agility', 'Reactions', 'Balance', 'ShotPower',\n",
       "       'Jumping', 'Stamina', 'Strength', 'LongShots', 'Aggression',\n",
       "       'Interceptions', 'Positioning', 'Vision', 'Penalties', 'Composure',\n",
       "       'Marking', 'StandingTackle', 'SlidingTackle', 'GKDiving', 'GKHandling',\n",
       "       'GKKicking', 'GKPositioning', 'GKReflexes', 'Release Clause'],\n",
       "      dtype='object')"
      ]
     },
     "execution_count": 6,
     "metadata": {},
     "output_type": "execute_result"
    }
   ],
   "source": [
    "df.columns"
   ]
  },
  {
   "cell_type": "markdown",
   "metadata": {},
   "source": [
    "So, we started by creating a dataframe with the variables that we thought that would be interesting to analyze."
   ]
  },
  {
   "cell_type": "code",
   "execution_count": 7,
   "metadata": {},
   "outputs": [],
   "source": [
    "df1= df[['ID','Name','Age','Nationality','Overall','Potential','Value', 'Wage',\n",
    "             'Preferred Foot','International Reputation','Weak Foot',\n",
    "             'Skill Moves','Body Type','Position','Contract Valid Until',\n",
    "             'Height','Weight','Crossing',\n",
    "             'Finishing','HeadingAccuracy', 'ShortPassing', 'Volleys', 'Dribbling',\n",
    "             'Curve', 'FKAccuracy', 'LongPassing', 'BallControl', 'Acceleration',\n",
    "             'SprintSpeed', 'Agility', 'Reactions', 'Balance', 'ShotPower',\n",
    "             'Jumping', 'Stamina', 'Strength', 'LongShots', 'Aggression',\n",
    "             'Interceptions', 'Positioning', 'Vision', 'Penalties', 'Composure',\n",
    "             'Marking', 'StandingTackle', 'SlidingTackle', 'GKDiving', 'GKHandling',\n",
    "             'GKKicking', 'GKPositioning', 'GKReflexes', 'Release Clause']]"
   ]
  },
  {
   "cell_type": "markdown",
   "metadata": {},
   "source": [
    "We set the index by the ID of the football player, because it's a unique value. We can see how the dataframe with the changed index looks like."
   ]
  },
  {
   "cell_type": "code",
   "execution_count": 8,
   "metadata": {},
   "outputs": [
    {
     "data": {
      "text/html": [
       "<div>\n",
       "<style scoped>\n",
       "    .dataframe tbody tr th:only-of-type {\n",
       "        vertical-align: middle;\n",
       "    }\n",
       "\n",
       "    .dataframe tbody tr th {\n",
       "        vertical-align: top;\n",
       "    }\n",
       "\n",
       "    .dataframe thead th {\n",
       "        text-align: right;\n",
       "    }\n",
       "</style>\n",
       "<table border=\"1\" class=\"dataframe\">\n",
       "  <thead>\n",
       "    <tr style=\"text-align: right;\">\n",
       "      <th></th>\n",
       "      <th>Name</th>\n",
       "      <th>Age</th>\n",
       "      <th>Nationality</th>\n",
       "      <th>Overall</th>\n",
       "      <th>Potential</th>\n",
       "      <th>Value</th>\n",
       "      <th>Wage</th>\n",
       "      <th>Preferred Foot</th>\n",
       "      <th>International Reputation</th>\n",
       "      <th>Weak Foot</th>\n",
       "      <th>...</th>\n",
       "      <th>Composure</th>\n",
       "      <th>Marking</th>\n",
       "      <th>StandingTackle</th>\n",
       "      <th>SlidingTackle</th>\n",
       "      <th>GKDiving</th>\n",
       "      <th>GKHandling</th>\n",
       "      <th>GKKicking</th>\n",
       "      <th>GKPositioning</th>\n",
       "      <th>GKReflexes</th>\n",
       "      <th>Release Clause</th>\n",
       "    </tr>\n",
       "    <tr>\n",
       "      <th>ID</th>\n",
       "      <th></th>\n",
       "      <th></th>\n",
       "      <th></th>\n",
       "      <th></th>\n",
       "      <th></th>\n",
       "      <th></th>\n",
       "      <th></th>\n",
       "      <th></th>\n",
       "      <th></th>\n",
       "      <th></th>\n",
       "      <th></th>\n",
       "      <th></th>\n",
       "      <th></th>\n",
       "      <th></th>\n",
       "      <th></th>\n",
       "      <th></th>\n",
       "      <th></th>\n",
       "      <th></th>\n",
       "      <th></th>\n",
       "      <th></th>\n",
       "      <th></th>\n",
       "    </tr>\n",
       "  </thead>\n",
       "  <tbody>\n",
       "    <tr>\n",
       "      <th>158023</th>\n",
       "      <td>L. Messi</td>\n",
       "      <td>31</td>\n",
       "      <td>Argentina</td>\n",
       "      <td>94</td>\n",
       "      <td>94</td>\n",
       "      <td>€110.5M</td>\n",
       "      <td>€565K</td>\n",
       "      <td>Left</td>\n",
       "      <td>5.0</td>\n",
       "      <td>4.0</td>\n",
       "      <td>...</td>\n",
       "      <td>96.0</td>\n",
       "      <td>33.0</td>\n",
       "      <td>28.0</td>\n",
       "      <td>26.0</td>\n",
       "      <td>6.0</td>\n",
       "      <td>11.0</td>\n",
       "      <td>15.0</td>\n",
       "      <td>14.0</td>\n",
       "      <td>8.0</td>\n",
       "      <td>€226.5M</td>\n",
       "    </tr>\n",
       "    <tr>\n",
       "      <th>20801</th>\n",
       "      <td>Cristiano Ronaldo</td>\n",
       "      <td>33</td>\n",
       "      <td>Portugal</td>\n",
       "      <td>94</td>\n",
       "      <td>94</td>\n",
       "      <td>€77M</td>\n",
       "      <td>€405K</td>\n",
       "      <td>Right</td>\n",
       "      <td>5.0</td>\n",
       "      <td>4.0</td>\n",
       "      <td>...</td>\n",
       "      <td>95.0</td>\n",
       "      <td>28.0</td>\n",
       "      <td>31.0</td>\n",
       "      <td>23.0</td>\n",
       "      <td>7.0</td>\n",
       "      <td>11.0</td>\n",
       "      <td>15.0</td>\n",
       "      <td>14.0</td>\n",
       "      <td>11.0</td>\n",
       "      <td>€127.1M</td>\n",
       "    </tr>\n",
       "    <tr>\n",
       "      <th>190871</th>\n",
       "      <td>Neymar Jr</td>\n",
       "      <td>26</td>\n",
       "      <td>Brazil</td>\n",
       "      <td>92</td>\n",
       "      <td>93</td>\n",
       "      <td>€118.5M</td>\n",
       "      <td>€290K</td>\n",
       "      <td>Right</td>\n",
       "      <td>5.0</td>\n",
       "      <td>5.0</td>\n",
       "      <td>...</td>\n",
       "      <td>94.0</td>\n",
       "      <td>27.0</td>\n",
       "      <td>24.0</td>\n",
       "      <td>33.0</td>\n",
       "      <td>9.0</td>\n",
       "      <td>9.0</td>\n",
       "      <td>15.0</td>\n",
       "      <td>15.0</td>\n",
       "      <td>11.0</td>\n",
       "      <td>€228.1M</td>\n",
       "    </tr>\n",
       "    <tr>\n",
       "      <th>193080</th>\n",
       "      <td>De Gea</td>\n",
       "      <td>27</td>\n",
       "      <td>Spain</td>\n",
       "      <td>91</td>\n",
       "      <td>93</td>\n",
       "      <td>€72M</td>\n",
       "      <td>€260K</td>\n",
       "      <td>Right</td>\n",
       "      <td>4.0</td>\n",
       "      <td>3.0</td>\n",
       "      <td>...</td>\n",
       "      <td>68.0</td>\n",
       "      <td>15.0</td>\n",
       "      <td>21.0</td>\n",
       "      <td>13.0</td>\n",
       "      <td>90.0</td>\n",
       "      <td>85.0</td>\n",
       "      <td>87.0</td>\n",
       "      <td>88.0</td>\n",
       "      <td>94.0</td>\n",
       "      <td>€138.6M</td>\n",
       "    </tr>\n",
       "    <tr>\n",
       "      <th>192985</th>\n",
       "      <td>K. De Bruyne</td>\n",
       "      <td>27</td>\n",
       "      <td>Belgium</td>\n",
       "      <td>91</td>\n",
       "      <td>92</td>\n",
       "      <td>€102M</td>\n",
       "      <td>€355K</td>\n",
       "      <td>Right</td>\n",
       "      <td>4.0</td>\n",
       "      <td>5.0</td>\n",
       "      <td>...</td>\n",
       "      <td>88.0</td>\n",
       "      <td>68.0</td>\n",
       "      <td>58.0</td>\n",
       "      <td>51.0</td>\n",
       "      <td>15.0</td>\n",
       "      <td>13.0</td>\n",
       "      <td>5.0</td>\n",
       "      <td>10.0</td>\n",
       "      <td>13.0</td>\n",
       "      <td>€196.4M</td>\n",
       "    </tr>\n",
       "  </tbody>\n",
       "</table>\n",
       "<p>5 rows × 51 columns</p>\n",
       "</div>"
      ],
      "text/plain": [
       "                     Name  Age Nationality  Overall  Potential    Value  \\\n",
       "ID                                                                        \n",
       "158023           L. Messi   31   Argentina       94         94  €110.5M   \n",
       "20801   Cristiano Ronaldo   33    Portugal       94         94     €77M   \n",
       "190871          Neymar Jr   26      Brazil       92         93  €118.5M   \n",
       "193080             De Gea   27       Spain       91         93     €72M   \n",
       "192985       K. De Bruyne   27     Belgium       91         92    €102M   \n",
       "\n",
       "         Wage Preferred Foot  International Reputation  Weak Foot  ...  \\\n",
       "ID                                                                 ...   \n",
       "158023  €565K           Left                       5.0        4.0  ...   \n",
       "20801   €405K          Right                       5.0        4.0  ...   \n",
       "190871  €290K          Right                       5.0        5.0  ...   \n",
       "193080  €260K          Right                       4.0        3.0  ...   \n",
       "192985  €355K          Right                       4.0        5.0  ...   \n",
       "\n",
       "        Composure Marking StandingTackle SlidingTackle GKDiving GKHandling  \\\n",
       "ID                                                                           \n",
       "158023       96.0    33.0           28.0          26.0      6.0       11.0   \n",
       "20801        95.0    28.0           31.0          23.0      7.0       11.0   \n",
       "190871       94.0    27.0           24.0          33.0      9.0        9.0   \n",
       "193080       68.0    15.0           21.0          13.0     90.0       85.0   \n",
       "192985       88.0    68.0           58.0          51.0     15.0       13.0   \n",
       "\n",
       "        GKKicking  GKPositioning  GKReflexes  Release Clause  \n",
       "ID                                                            \n",
       "158023       15.0           14.0         8.0         €226.5M  \n",
       "20801        15.0           14.0        11.0         €127.1M  \n",
       "190871       15.0           15.0        11.0         €228.1M  \n",
       "193080       87.0           88.0        94.0         €138.6M  \n",
       "192985        5.0           10.0        13.0         €196.4M  \n",
       "\n",
       "[5 rows x 51 columns]"
      ]
     },
     "execution_count": 8,
     "metadata": {},
     "output_type": "execute_result"
    }
   ],
   "source": [
    "df1.set_index('ID', inplace = True)\n",
    "df1.head()"
   ]
  },
  {
   "cell_type": "markdown",
   "metadata": {},
   "source": [
    "### Transforming strings into integers or floats"
   ]
  },
  {
   "cell_type": "markdown",
   "metadata": {},
   "source": [
    "To be possible to analyze our data, we needed to transform our string values that included measurement units into integers or floats (depending on the situation).\n",
    "\n",
    "First we created a function called lbs2int that removes from the values the word \"lbs\" and transforms them into integers. It also removes the missing values."
   ]
  },
  {
   "cell_type": "code",
   "execution_count": 9,
   "metadata": {},
   "outputs": [],
   "source": [
    "def lbs2int(lbs):\n",
    "    if lbs[-1] =='s':\n",
    "        return int(lbs[0:-3])\n",
    "    elif lbs[0]=='n': #when exists missing values\n",
    "        return int(0)\n",
    "    else:\n",
    "        return int(lbs[0:])"
   ]
  },
  {
   "cell_type": "markdown",
   "metadata": {},
   "source": [
    "Then we applied this function to the variable Weight."
   ]
  },
  {
   "cell_type": "code",
   "execution_count": 10,
   "metadata": {},
   "outputs": [
    {
     "name": "stderr",
     "output_type": "stream",
     "text": [
      "C:\\Users\\User\\Anaconda3\\lib\\site-packages\\ipykernel_launcher.py:1: SettingWithCopyWarning: \n",
      "A value is trying to be set on a copy of a slice from a DataFrame.\n",
      "Try using .loc[row_indexer,col_indexer] = value instead\n",
      "\n",
      "See the caveats in the documentation: http://pandas.pydata.org/pandas-docs/stable/indexing.html#indexing-view-versus-copy\n",
      "  \"\"\"Entry point for launching an IPython kernel.\n"
     ]
    }
   ],
   "source": [
    "df1['Weight']=df1['Weight'].apply(lambda x: lbs2int(str(x)))"
   ]
  },
  {
   "cell_type": "markdown",
   "metadata": {},
   "source": [
    "The result was this:"
   ]
  },
  {
   "cell_type": "code",
   "execution_count": 11,
   "metadata": {},
   "outputs": [
    {
     "data": {
      "text/plain": [
       "ID\n",
       "158023    159\n",
       "20801     183\n",
       "190871    150\n",
       "193080    168\n",
       "192985    154\n",
       "Name: Weight, dtype: int64"
      ]
     },
     "execution_count": 11,
     "metadata": {},
     "output_type": "execute_result"
    }
   ],
   "source": [
    "df1['Weight'].head()"
   ]
  },
  {
   "cell_type": "markdown",
   "metadata": {},
   "source": [
    "Secondly, we created another function called str2float that replaced K for x1000 and M for x1000000, transforming the string values into floats. It also remove the missing values."
   ]
  },
  {
   "cell_type": "code",
   "execution_count": 12,
   "metadata": {},
   "outputs": [],
   "source": [
    "def str2float(euros):\n",
    "    if euros[0]=='n': #when exists missing values\n",
    "        return float(0)\n",
    "    elif euros[-1]=='M':\n",
    "        return float(euros[1:-1])*1000000\n",
    "    elif euros[-1]=='K':\n",
    "        return float(euros[1:-1])*1000\n",
    "    else:\n",
    "        return float(euros[1:])"
   ]
  },
  {
   "cell_type": "markdown",
   "metadata": {},
   "source": [
    "Then we applied this function to the variable Release Clause."
   ]
  },
  {
   "cell_type": "code",
   "execution_count": 13,
   "metadata": {},
   "outputs": [
    {
     "name": "stderr",
     "output_type": "stream",
     "text": [
      "C:\\Users\\User\\Anaconda3\\lib\\site-packages\\ipykernel_launcher.py:1: SettingWithCopyWarning: \n",
      "A value is trying to be set on a copy of a slice from a DataFrame.\n",
      "Try using .loc[row_indexer,col_indexer] = value instead\n",
      "\n",
      "See the caveats in the documentation: http://pandas.pydata.org/pandas-docs/stable/indexing.html#indexing-view-versus-copy\n",
      "  \"\"\"Entry point for launching an IPython kernel.\n"
     ]
    }
   ],
   "source": [
    "df1['Release Clause']=df1['Release Clause'].apply(lambda x: str2float(str(x)))"
   ]
  },
  {
   "cell_type": "markdown",
   "metadata": {},
   "source": [
    "The result was this:"
   ]
  },
  {
   "cell_type": "code",
   "execution_count": 14,
   "metadata": {},
   "outputs": [
    {
     "data": {
      "text/plain": [
       "ID\n",
       "158023    226500000.0\n",
       "20801     127100000.0\n",
       "190871    228100000.0\n",
       "193080    138600000.0\n",
       "192985    196400000.0\n",
       "Name: Release Clause, dtype: float64"
      ]
     },
     "execution_count": 14,
     "metadata": {},
     "output_type": "execute_result"
    }
   ],
   "source": [
    "df1['Release Clause'].head()"
   ]
  },
  {
   "cell_type": "markdown",
   "metadata": {},
   "source": [
    "Then we applied this function to the variable Value."
   ]
  },
  {
   "cell_type": "code",
   "execution_count": 15,
   "metadata": {},
   "outputs": [
    {
     "name": "stderr",
     "output_type": "stream",
     "text": [
      "C:\\Users\\User\\Anaconda3\\lib\\site-packages\\ipykernel_launcher.py:1: SettingWithCopyWarning: \n",
      "A value is trying to be set on a copy of a slice from a DataFrame.\n",
      "Try using .loc[row_indexer,col_indexer] = value instead\n",
      "\n",
      "See the caveats in the documentation: http://pandas.pydata.org/pandas-docs/stable/indexing.html#indexing-view-versus-copy\n",
      "  \"\"\"Entry point for launching an IPython kernel.\n"
     ]
    }
   ],
   "source": [
    "df1['Value']=df1['Value'].apply(lambda x: str2float(str(x)))"
   ]
  },
  {
   "cell_type": "markdown",
   "metadata": {},
   "source": [
    "The result was this:"
   ]
  },
  {
   "cell_type": "code",
   "execution_count": 16,
   "metadata": {},
   "outputs": [
    {
     "data": {
      "text/plain": [
       "ID\n",
       "158023    110500000.0\n",
       "20801      77000000.0\n",
       "190871    118500000.0\n",
       "193080     72000000.0\n",
       "192985    102000000.0\n",
       "Name: Value, dtype: float64"
      ]
     },
     "execution_count": 16,
     "metadata": {},
     "output_type": "execute_result"
    }
   ],
   "source": [
    "df1['Value'].head()"
   ]
  },
  {
   "cell_type": "markdown",
   "metadata": {},
   "source": [
    "Then we applied this function to the variable Wage."
   ]
  },
  {
   "cell_type": "code",
   "execution_count": 17,
   "metadata": {},
   "outputs": [
    {
     "name": "stderr",
     "output_type": "stream",
     "text": [
      "C:\\Users\\User\\Anaconda3\\lib\\site-packages\\ipykernel_launcher.py:1: SettingWithCopyWarning: \n",
      "A value is trying to be set on a copy of a slice from a DataFrame.\n",
      "Try using .loc[row_indexer,col_indexer] = value instead\n",
      "\n",
      "See the caveats in the documentation: http://pandas.pydata.org/pandas-docs/stable/indexing.html#indexing-view-versus-copy\n",
      "  \"\"\"Entry point for launching an IPython kernel.\n"
     ]
    }
   ],
   "source": [
    "df1['Wage']=df1['Wage'].apply(lambda x: str2float(str(x)))"
   ]
  },
  {
   "cell_type": "markdown",
   "metadata": {},
   "source": [
    "The result was this:"
   ]
  },
  {
   "cell_type": "code",
   "execution_count": 18,
   "metadata": {},
   "outputs": [
    {
     "data": {
      "text/plain": [
       "ID\n",
       "158023    565000.0\n",
       "20801     405000.0\n",
       "190871    290000.0\n",
       "193080    260000.0\n",
       "192985    355000.0\n",
       "Name: Wage, dtype: float64"
      ]
     },
     "execution_count": 18,
     "metadata": {},
     "output_type": "execute_result"
    }
   ],
   "source": [
    "df1['Wage'].head()"
   ]
  },
  {
   "cell_type": "markdown",
   "metadata": {},
   "source": [
    "Thirdly, we created our last function that transforms date (string) just into the year (integer). It also remove the missing values replacing them by 0, which means that a player doesn't have a contract."
   ]
  },
  {
   "cell_type": "code",
   "execution_count": 19,
   "metadata": {},
   "outputs": [],
   "source": [
    "def date2int(date):\n",
    "    if date != \"nan\":\n",
    "        return date[-4:]\n",
    "    else:\n",
    "        return 0"
   ]
  },
  {
   "cell_type": "markdown",
   "metadata": {},
   "source": [
    "Then we applied this function to the variable Contract Valid Until."
   ]
  },
  {
   "cell_type": "code",
   "execution_count": 20,
   "metadata": {},
   "outputs": [
    {
     "name": "stderr",
     "output_type": "stream",
     "text": [
      "C:\\Users\\User\\Anaconda3\\lib\\site-packages\\ipykernel_launcher.py:1: SettingWithCopyWarning: \n",
      "A value is trying to be set on a copy of a slice from a DataFrame.\n",
      "Try using .loc[row_indexer,col_indexer] = value instead\n",
      "\n",
      "See the caveats in the documentation: http://pandas.pydata.org/pandas-docs/stable/indexing.html#indexing-view-versus-copy\n",
      "  \"\"\"Entry point for launching an IPython kernel.\n",
      "C:\\Users\\User\\Anaconda3\\lib\\site-packages\\ipykernel_launcher.py:2: SettingWithCopyWarning: \n",
      "A value is trying to be set on a copy of a slice from a DataFrame.\n",
      "Try using .loc[row_indexer,col_indexer] = value instead\n",
      "\n",
      "See the caveats in the documentation: http://pandas.pydata.org/pandas-docs/stable/indexing.html#indexing-view-versus-copy\n",
      "  \n"
     ]
    }
   ],
   "source": [
    "df1['Contract Valid Until']=df1['Contract Valid Until'].apply(lambda x: date2int(str(x)))\n",
    "df1['Contract Valid Until'] = pd.to_numeric(df1['Contract Valid Until'])"
   ]
  },
  {
   "cell_type": "markdown",
   "metadata": {},
   "source": [
    "The result was this:"
   ]
  },
  {
   "cell_type": "code",
   "execution_count": 21,
   "metadata": {},
   "outputs": [
    {
     "data": {
      "text/plain": [
       "2019    5920\n",
       "2021    4360\n",
       "2020    4044\n",
       "2022    1477\n",
       "2023    1053\n",
       "2018    1032\n",
       "0        289\n",
       "2024      23\n",
       "2025       7\n",
       "2026       2\n",
       "Name: Contract Valid Until, dtype: int64"
      ]
     },
     "execution_count": 21,
     "metadata": {},
     "output_type": "execute_result"
    }
   ],
   "source": [
    "df1['Contract Valid Until'].value_counts()"
   ]
  },
  {
   "cell_type": "markdown",
   "metadata": {},
   "source": [
    "Finally, we can see the results of all this transformations."
   ]
  },
  {
   "cell_type": "code",
   "execution_count": 22,
   "metadata": {},
   "outputs": [
    {
     "data": {
      "text/html": [
       "<div>\n",
       "<style scoped>\n",
       "    .dataframe tbody tr th:only-of-type {\n",
       "        vertical-align: middle;\n",
       "    }\n",
       "\n",
       "    .dataframe tbody tr th {\n",
       "        vertical-align: top;\n",
       "    }\n",
       "\n",
       "    .dataframe thead th {\n",
       "        text-align: right;\n",
       "    }\n",
       "</style>\n",
       "<table border=\"1\" class=\"dataframe\">\n",
       "  <thead>\n",
       "    <tr style=\"text-align: right;\">\n",
       "      <th></th>\n",
       "      <th>Name</th>\n",
       "      <th>Age</th>\n",
       "      <th>Nationality</th>\n",
       "      <th>Overall</th>\n",
       "      <th>Potential</th>\n",
       "      <th>Value</th>\n",
       "      <th>Wage</th>\n",
       "      <th>Preferred Foot</th>\n",
       "      <th>International Reputation</th>\n",
       "      <th>Weak Foot</th>\n",
       "      <th>...</th>\n",
       "      <th>Composure</th>\n",
       "      <th>Marking</th>\n",
       "      <th>StandingTackle</th>\n",
       "      <th>SlidingTackle</th>\n",
       "      <th>GKDiving</th>\n",
       "      <th>GKHandling</th>\n",
       "      <th>GKKicking</th>\n",
       "      <th>GKPositioning</th>\n",
       "      <th>GKReflexes</th>\n",
       "      <th>Release Clause</th>\n",
       "    </tr>\n",
       "    <tr>\n",
       "      <th>ID</th>\n",
       "      <th></th>\n",
       "      <th></th>\n",
       "      <th></th>\n",
       "      <th></th>\n",
       "      <th></th>\n",
       "      <th></th>\n",
       "      <th></th>\n",
       "      <th></th>\n",
       "      <th></th>\n",
       "      <th></th>\n",
       "      <th></th>\n",
       "      <th></th>\n",
       "      <th></th>\n",
       "      <th></th>\n",
       "      <th></th>\n",
       "      <th></th>\n",
       "      <th></th>\n",
       "      <th></th>\n",
       "      <th></th>\n",
       "      <th></th>\n",
       "      <th></th>\n",
       "    </tr>\n",
       "  </thead>\n",
       "  <tbody>\n",
       "    <tr>\n",
       "      <th>158023</th>\n",
       "      <td>L. Messi</td>\n",
       "      <td>31</td>\n",
       "      <td>Argentina</td>\n",
       "      <td>94</td>\n",
       "      <td>94</td>\n",
       "      <td>110500000.0</td>\n",
       "      <td>565000.0</td>\n",
       "      <td>Left</td>\n",
       "      <td>5.0</td>\n",
       "      <td>4.0</td>\n",
       "      <td>...</td>\n",
       "      <td>96.0</td>\n",
       "      <td>33.0</td>\n",
       "      <td>28.0</td>\n",
       "      <td>26.0</td>\n",
       "      <td>6.0</td>\n",
       "      <td>11.0</td>\n",
       "      <td>15.0</td>\n",
       "      <td>14.0</td>\n",
       "      <td>8.0</td>\n",
       "      <td>226500000.0</td>\n",
       "    </tr>\n",
       "    <tr>\n",
       "      <th>20801</th>\n",
       "      <td>Cristiano Ronaldo</td>\n",
       "      <td>33</td>\n",
       "      <td>Portugal</td>\n",
       "      <td>94</td>\n",
       "      <td>94</td>\n",
       "      <td>77000000.0</td>\n",
       "      <td>405000.0</td>\n",
       "      <td>Right</td>\n",
       "      <td>5.0</td>\n",
       "      <td>4.0</td>\n",
       "      <td>...</td>\n",
       "      <td>95.0</td>\n",
       "      <td>28.0</td>\n",
       "      <td>31.0</td>\n",
       "      <td>23.0</td>\n",
       "      <td>7.0</td>\n",
       "      <td>11.0</td>\n",
       "      <td>15.0</td>\n",
       "      <td>14.0</td>\n",
       "      <td>11.0</td>\n",
       "      <td>127100000.0</td>\n",
       "    </tr>\n",
       "    <tr>\n",
       "      <th>190871</th>\n",
       "      <td>Neymar Jr</td>\n",
       "      <td>26</td>\n",
       "      <td>Brazil</td>\n",
       "      <td>92</td>\n",
       "      <td>93</td>\n",
       "      <td>118500000.0</td>\n",
       "      <td>290000.0</td>\n",
       "      <td>Right</td>\n",
       "      <td>5.0</td>\n",
       "      <td>5.0</td>\n",
       "      <td>...</td>\n",
       "      <td>94.0</td>\n",
       "      <td>27.0</td>\n",
       "      <td>24.0</td>\n",
       "      <td>33.0</td>\n",
       "      <td>9.0</td>\n",
       "      <td>9.0</td>\n",
       "      <td>15.0</td>\n",
       "      <td>15.0</td>\n",
       "      <td>11.0</td>\n",
       "      <td>228100000.0</td>\n",
       "    </tr>\n",
       "    <tr>\n",
       "      <th>193080</th>\n",
       "      <td>De Gea</td>\n",
       "      <td>27</td>\n",
       "      <td>Spain</td>\n",
       "      <td>91</td>\n",
       "      <td>93</td>\n",
       "      <td>72000000.0</td>\n",
       "      <td>260000.0</td>\n",
       "      <td>Right</td>\n",
       "      <td>4.0</td>\n",
       "      <td>3.0</td>\n",
       "      <td>...</td>\n",
       "      <td>68.0</td>\n",
       "      <td>15.0</td>\n",
       "      <td>21.0</td>\n",
       "      <td>13.0</td>\n",
       "      <td>90.0</td>\n",
       "      <td>85.0</td>\n",
       "      <td>87.0</td>\n",
       "      <td>88.0</td>\n",
       "      <td>94.0</td>\n",
       "      <td>138600000.0</td>\n",
       "    </tr>\n",
       "    <tr>\n",
       "      <th>192985</th>\n",
       "      <td>K. De Bruyne</td>\n",
       "      <td>27</td>\n",
       "      <td>Belgium</td>\n",
       "      <td>91</td>\n",
       "      <td>92</td>\n",
       "      <td>102000000.0</td>\n",
       "      <td>355000.0</td>\n",
       "      <td>Right</td>\n",
       "      <td>4.0</td>\n",
       "      <td>5.0</td>\n",
       "      <td>...</td>\n",
       "      <td>88.0</td>\n",
       "      <td>68.0</td>\n",
       "      <td>58.0</td>\n",
       "      <td>51.0</td>\n",
       "      <td>15.0</td>\n",
       "      <td>13.0</td>\n",
       "      <td>5.0</td>\n",
       "      <td>10.0</td>\n",
       "      <td>13.0</td>\n",
       "      <td>196400000.0</td>\n",
       "    </tr>\n",
       "  </tbody>\n",
       "</table>\n",
       "<p>5 rows × 51 columns</p>\n",
       "</div>"
      ],
      "text/plain": [
       "                     Name  Age Nationality  Overall  Potential        Value  \\\n",
       "ID                                                                            \n",
       "158023           L. Messi   31   Argentina       94         94  110500000.0   \n",
       "20801   Cristiano Ronaldo   33    Portugal       94         94   77000000.0   \n",
       "190871          Neymar Jr   26      Brazil       92         93  118500000.0   \n",
       "193080             De Gea   27       Spain       91         93   72000000.0   \n",
       "192985       K. De Bruyne   27     Belgium       91         92  102000000.0   \n",
       "\n",
       "            Wage Preferred Foot  International Reputation  Weak Foot  ...  \\\n",
       "ID                                                                    ...   \n",
       "158023  565000.0           Left                       5.0        4.0  ...   \n",
       "20801   405000.0          Right                       5.0        4.0  ...   \n",
       "190871  290000.0          Right                       5.0        5.0  ...   \n",
       "193080  260000.0          Right                       4.0        3.0  ...   \n",
       "192985  355000.0          Right                       4.0        5.0  ...   \n",
       "\n",
       "        Composure Marking StandingTackle  SlidingTackle GKDiving  GKHandling  \\\n",
       "ID                                                                             \n",
       "158023       96.0    33.0           28.0           26.0      6.0        11.0   \n",
       "20801        95.0    28.0           31.0           23.0      7.0        11.0   \n",
       "190871       94.0    27.0           24.0           33.0      9.0         9.0   \n",
       "193080       68.0    15.0           21.0           13.0     90.0        85.0   \n",
       "192985       88.0    68.0           58.0           51.0     15.0        13.0   \n",
       "\n",
       "        GKKicking  GKPositioning  GKReflexes  Release Clause  \n",
       "ID                                                            \n",
       "158023       15.0           14.0         8.0     226500000.0  \n",
       "20801        15.0           14.0        11.0     127100000.0  \n",
       "190871       15.0           15.0        11.0     228100000.0  \n",
       "193080       87.0           88.0        94.0     138600000.0  \n",
       "192985        5.0           10.0        13.0     196400000.0  \n",
       "\n",
       "[5 rows x 51 columns]"
      ]
     },
     "execution_count": 22,
     "metadata": {},
     "output_type": "execute_result"
    }
   ],
   "source": [
    "df1.head()"
   ]
  },
  {
   "cell_type": "markdown",
   "metadata": {},
   "source": [
    "### Solving problems with missing values"
   ]
  },
  {
   "cell_type": "markdown",
   "metadata": {},
   "source": [
    "It is important to fix the null values in our new dataframe in order to be possible to analyze our situation."
   ]
  },
  {
   "cell_type": "code",
   "execution_count": 23,
   "metadata": {},
   "outputs": [
    {
     "data": {
      "text/plain": [
       "Name                         0\n",
       "Age                          0\n",
       "Nationality                  0\n",
       "Overall                      0\n",
       "Potential                    0\n",
       "Value                        0\n",
       "Wage                         0\n",
       "Preferred Foot              48\n",
       "International Reputation    48\n",
       "Weak Foot                   48\n",
       "Skill Moves                 48\n",
       "Body Type                   48\n",
       "Position                    60\n",
       "Contract Valid Until         0\n",
       "Height                      48\n",
       "Weight                       0\n",
       "Crossing                    48\n",
       "Finishing                   48\n",
       "HeadingAccuracy             48\n",
       "ShortPassing                48\n",
       "Volleys                     48\n",
       "Dribbling                   48\n",
       "Curve                       48\n",
       "FKAccuracy                  48\n",
       "LongPassing                 48\n",
       "BallControl                 48\n",
       "Acceleration                48\n",
       "SprintSpeed                 48\n",
       "Agility                     48\n",
       "Reactions                   48\n",
       "Balance                     48\n",
       "ShotPower                   48\n",
       "Jumping                     48\n",
       "Stamina                     48\n",
       "Strength                    48\n",
       "LongShots                   48\n",
       "Aggression                  48\n",
       "Interceptions               48\n",
       "Positioning                 48\n",
       "Vision                      48\n",
       "Penalties                   48\n",
       "Composure                   48\n",
       "Marking                     48\n",
       "StandingTackle              48\n",
       "SlidingTackle               48\n",
       "GKDiving                    48\n",
       "GKHandling                  48\n",
       "GKKicking                   48\n",
       "GKPositioning               48\n",
       "GKReflexes                  48\n",
       "Release Clause               0\n",
       "dtype: int64"
      ]
     },
     "execution_count": 23,
     "metadata": {},
     "output_type": "execute_result"
    }
   ],
   "source": [
    "df1.isnull().sum()"
   ]
  },
  {
   "cell_type": "markdown",
   "metadata": {},
   "source": [
    "To analyze our problem, it is mandatory to have the position of the football players. With this information missing, we couldn't make any conclusions.\n",
    "\n",
    "Therefore, we eliminated the players that didn't have a value in the variable Position. After looking carefully to the dataset we understood that the group of players who didn't have a record for this variable, corresponded to all of our other variables' missing values. So by removing the players we solved this problem."
   ]
  },
  {
   "cell_type": "code",
   "execution_count": 24,
   "metadata": {},
   "outputs": [
    {
     "data": {
      "text/html": [
       "<div>\n",
       "<style scoped>\n",
       "    .dataframe tbody tr th:only-of-type {\n",
       "        vertical-align: middle;\n",
       "    }\n",
       "\n",
       "    .dataframe tbody tr th {\n",
       "        vertical-align: top;\n",
       "    }\n",
       "\n",
       "    .dataframe thead th {\n",
       "        text-align: right;\n",
       "    }\n",
       "</style>\n",
       "<table border=\"1\" class=\"dataframe\">\n",
       "  <thead>\n",
       "    <tr style=\"text-align: right;\">\n",
       "      <th></th>\n",
       "      <th>Name</th>\n",
       "      <th>Age</th>\n",
       "      <th>Nationality</th>\n",
       "      <th>Overall</th>\n",
       "      <th>Potential</th>\n",
       "      <th>Value</th>\n",
       "      <th>Wage</th>\n",
       "      <th>Preferred Foot</th>\n",
       "      <th>International Reputation</th>\n",
       "      <th>Weak Foot</th>\n",
       "      <th>...</th>\n",
       "      <th>Composure</th>\n",
       "      <th>Marking</th>\n",
       "      <th>StandingTackle</th>\n",
       "      <th>SlidingTackle</th>\n",
       "      <th>GKDiving</th>\n",
       "      <th>GKHandling</th>\n",
       "      <th>GKKicking</th>\n",
       "      <th>GKPositioning</th>\n",
       "      <th>GKReflexes</th>\n",
       "      <th>Release Clause</th>\n",
       "    </tr>\n",
       "    <tr>\n",
       "      <th>ID</th>\n",
       "      <th></th>\n",
       "      <th></th>\n",
       "      <th></th>\n",
       "      <th></th>\n",
       "      <th></th>\n",
       "      <th></th>\n",
       "      <th></th>\n",
       "      <th></th>\n",
       "      <th></th>\n",
       "      <th></th>\n",
       "      <th></th>\n",
       "      <th></th>\n",
       "      <th></th>\n",
       "      <th></th>\n",
       "      <th></th>\n",
       "      <th></th>\n",
       "      <th></th>\n",
       "      <th></th>\n",
       "      <th></th>\n",
       "      <th></th>\n",
       "      <th></th>\n",
       "    </tr>\n",
       "  </thead>\n",
       "  <tbody>\n",
       "    <tr>\n",
       "      <th>158023</th>\n",
       "      <td>L. Messi</td>\n",
       "      <td>31</td>\n",
       "      <td>Argentina</td>\n",
       "      <td>94</td>\n",
       "      <td>94</td>\n",
       "      <td>110500000.0</td>\n",
       "      <td>565000.0</td>\n",
       "      <td>Left</td>\n",
       "      <td>5.0</td>\n",
       "      <td>4.0</td>\n",
       "      <td>...</td>\n",
       "      <td>96.0</td>\n",
       "      <td>33.0</td>\n",
       "      <td>28.0</td>\n",
       "      <td>26.0</td>\n",
       "      <td>6.0</td>\n",
       "      <td>11.0</td>\n",
       "      <td>15.0</td>\n",
       "      <td>14.0</td>\n",
       "      <td>8.0</td>\n",
       "      <td>226500000.0</td>\n",
       "    </tr>\n",
       "    <tr>\n",
       "      <th>20801</th>\n",
       "      <td>Cristiano Ronaldo</td>\n",
       "      <td>33</td>\n",
       "      <td>Portugal</td>\n",
       "      <td>94</td>\n",
       "      <td>94</td>\n",
       "      <td>77000000.0</td>\n",
       "      <td>405000.0</td>\n",
       "      <td>Right</td>\n",
       "      <td>5.0</td>\n",
       "      <td>4.0</td>\n",
       "      <td>...</td>\n",
       "      <td>95.0</td>\n",
       "      <td>28.0</td>\n",
       "      <td>31.0</td>\n",
       "      <td>23.0</td>\n",
       "      <td>7.0</td>\n",
       "      <td>11.0</td>\n",
       "      <td>15.0</td>\n",
       "      <td>14.0</td>\n",
       "      <td>11.0</td>\n",
       "      <td>127100000.0</td>\n",
       "    </tr>\n",
       "    <tr>\n",
       "      <th>190871</th>\n",
       "      <td>Neymar Jr</td>\n",
       "      <td>26</td>\n",
       "      <td>Brazil</td>\n",
       "      <td>92</td>\n",
       "      <td>93</td>\n",
       "      <td>118500000.0</td>\n",
       "      <td>290000.0</td>\n",
       "      <td>Right</td>\n",
       "      <td>5.0</td>\n",
       "      <td>5.0</td>\n",
       "      <td>...</td>\n",
       "      <td>94.0</td>\n",
       "      <td>27.0</td>\n",
       "      <td>24.0</td>\n",
       "      <td>33.0</td>\n",
       "      <td>9.0</td>\n",
       "      <td>9.0</td>\n",
       "      <td>15.0</td>\n",
       "      <td>15.0</td>\n",
       "      <td>11.0</td>\n",
       "      <td>228100000.0</td>\n",
       "    </tr>\n",
       "    <tr>\n",
       "      <th>193080</th>\n",
       "      <td>De Gea</td>\n",
       "      <td>27</td>\n",
       "      <td>Spain</td>\n",
       "      <td>91</td>\n",
       "      <td>93</td>\n",
       "      <td>72000000.0</td>\n",
       "      <td>260000.0</td>\n",
       "      <td>Right</td>\n",
       "      <td>4.0</td>\n",
       "      <td>3.0</td>\n",
       "      <td>...</td>\n",
       "      <td>68.0</td>\n",
       "      <td>15.0</td>\n",
       "      <td>21.0</td>\n",
       "      <td>13.0</td>\n",
       "      <td>90.0</td>\n",
       "      <td>85.0</td>\n",
       "      <td>87.0</td>\n",
       "      <td>88.0</td>\n",
       "      <td>94.0</td>\n",
       "      <td>138600000.0</td>\n",
       "    </tr>\n",
       "    <tr>\n",
       "      <th>192985</th>\n",
       "      <td>K. De Bruyne</td>\n",
       "      <td>27</td>\n",
       "      <td>Belgium</td>\n",
       "      <td>91</td>\n",
       "      <td>92</td>\n",
       "      <td>102000000.0</td>\n",
       "      <td>355000.0</td>\n",
       "      <td>Right</td>\n",
       "      <td>4.0</td>\n",
       "      <td>5.0</td>\n",
       "      <td>...</td>\n",
       "      <td>88.0</td>\n",
       "      <td>68.0</td>\n",
       "      <td>58.0</td>\n",
       "      <td>51.0</td>\n",
       "      <td>15.0</td>\n",
       "      <td>13.0</td>\n",
       "      <td>5.0</td>\n",
       "      <td>10.0</td>\n",
       "      <td>13.0</td>\n",
       "      <td>196400000.0</td>\n",
       "    </tr>\n",
       "  </tbody>\n",
       "</table>\n",
       "<p>5 rows × 51 columns</p>\n",
       "</div>"
      ],
      "text/plain": [
       "                     Name  Age Nationality  Overall  Potential        Value  \\\n",
       "ID                                                                            \n",
       "158023           L. Messi   31   Argentina       94         94  110500000.0   \n",
       "20801   Cristiano Ronaldo   33    Portugal       94         94   77000000.0   \n",
       "190871          Neymar Jr   26      Brazil       92         93  118500000.0   \n",
       "193080             De Gea   27       Spain       91         93   72000000.0   \n",
       "192985       K. De Bruyne   27     Belgium       91         92  102000000.0   \n",
       "\n",
       "            Wage Preferred Foot  International Reputation  Weak Foot  ...  \\\n",
       "ID                                                                    ...   \n",
       "158023  565000.0           Left                       5.0        4.0  ...   \n",
       "20801   405000.0          Right                       5.0        4.0  ...   \n",
       "190871  290000.0          Right                       5.0        5.0  ...   \n",
       "193080  260000.0          Right                       4.0        3.0  ...   \n",
       "192985  355000.0          Right                       4.0        5.0  ...   \n",
       "\n",
       "        Composure Marking StandingTackle  SlidingTackle GKDiving  GKHandling  \\\n",
       "ID                                                                             \n",
       "158023       96.0    33.0           28.0           26.0      6.0        11.0   \n",
       "20801        95.0    28.0           31.0           23.0      7.0        11.0   \n",
       "190871       94.0    27.0           24.0           33.0      9.0         9.0   \n",
       "193080       68.0    15.0           21.0           13.0     90.0        85.0   \n",
       "192985       88.0    68.0           58.0           51.0     15.0        13.0   \n",
       "\n",
       "        GKKicking  GKPositioning  GKReflexes  Release Clause  \n",
       "ID                                                            \n",
       "158023       15.0           14.0         8.0     226500000.0  \n",
       "20801        15.0           14.0        11.0     127100000.0  \n",
       "190871       15.0           15.0        11.0     228100000.0  \n",
       "193080       87.0           88.0        94.0     138600000.0  \n",
       "192985        5.0           10.0        13.0     196400000.0  \n",
       "\n",
       "[5 rows x 51 columns]"
      ]
     },
     "execution_count": 24,
     "metadata": {},
     "output_type": "execute_result"
    }
   ],
   "source": [
    "df2 = df1.dropna(subset=['Position'])\n",
    "df2.head()"
   ]
  },
  {
   "cell_type": "markdown",
   "metadata": {},
   "source": [
    "It is possible to observe that all the missing values disappear and we no longer have a problem."
   ]
  },
  {
   "cell_type": "code",
   "execution_count": 25,
   "metadata": {},
   "outputs": [
    {
     "data": {
      "text/plain": [
       "Name                        0\n",
       "Age                         0\n",
       "Nationality                 0\n",
       "Overall                     0\n",
       "Potential                   0\n",
       "Value                       0\n",
       "Wage                        0\n",
       "Preferred Foot              0\n",
       "International Reputation    0\n",
       "Weak Foot                   0\n",
       "Skill Moves                 0\n",
       "Body Type                   0\n",
       "Position                    0\n",
       "Contract Valid Until        0\n",
       "Height                      0\n",
       "Weight                      0\n",
       "Crossing                    0\n",
       "Finishing                   0\n",
       "HeadingAccuracy             0\n",
       "ShortPassing                0\n",
       "Volleys                     0\n",
       "Dribbling                   0\n",
       "Curve                       0\n",
       "FKAccuracy                  0\n",
       "LongPassing                 0\n",
       "BallControl                 0\n",
       "Acceleration                0\n",
       "SprintSpeed                 0\n",
       "Agility                     0\n",
       "Reactions                   0\n",
       "Balance                     0\n",
       "ShotPower                   0\n",
       "Jumping                     0\n",
       "Stamina                     0\n",
       "Strength                    0\n",
       "LongShots                   0\n",
       "Aggression                  0\n",
       "Interceptions               0\n",
       "Positioning                 0\n",
       "Vision                      0\n",
       "Penalties                   0\n",
       "Composure                   0\n",
       "Marking                     0\n",
       "StandingTackle              0\n",
       "SlidingTackle               0\n",
       "GKDiving                    0\n",
       "GKHandling                  0\n",
       "GKKicking                   0\n",
       "GKPositioning               0\n",
       "GKReflexes                  0\n",
       "Release Clause              0\n",
       "dtype: int64"
      ]
     },
     "execution_count": 25,
     "metadata": {},
     "output_type": "execute_result"
    }
   ],
   "source": [
    "df2.isnull().sum()"
   ]
  },
  {
   "cell_type": "markdown",
   "metadata": {},
   "source": [
    "### Binary variables"
   ]
  },
  {
   "cell_type": "markdown",
   "metadata": {},
   "source": [
    "It is also important to transform some variables to binary. \n",
    "\n",
    "When we have a variable that only has two values, we can change this variable to zeros and ones. Bearing that in mind o change the variable Preferred Foot replacing Left by 0 and Right by 1."
   ]
  },
  {
   "cell_type": "code",
   "execution_count": 26,
   "metadata": {},
   "outputs": [
    {
     "name": "stderr",
     "output_type": "stream",
     "text": [
      "C:\\Users\\User\\Anaconda3\\lib\\site-packages\\ipykernel_launcher.py:1: SettingWithCopyWarning: \n",
      "A value is trying to be set on a copy of a slice from a DataFrame.\n",
      "Try using .loc[row_indexer,col_indexer] = value instead\n",
      "\n",
      "See the caveats in the documentation: http://pandas.pydata.org/pandas-docs/stable/indexing.html#indexing-view-versus-copy\n",
      "  \"\"\"Entry point for launching an IPython kernel.\n"
     ]
    }
   ],
   "source": [
    "df2['Preferred Foot'] = df2['Preferred Foot'].replace(['Left','Right'],[0,1])"
   ]
  },
  {
   "cell_type": "markdown",
   "metadata": {},
   "source": [
    "We can see the results."
   ]
  },
  {
   "cell_type": "code",
   "execution_count": 27,
   "metadata": {},
   "outputs": [
    {
     "data": {
      "text/plain": [
       "ID\n",
       "158023    0\n",
       "20801     1\n",
       "190871    1\n",
       "193080    1\n",
       "192985    1\n",
       "Name: Preferred Foot, dtype: int64"
      ]
     },
     "execution_count": 27,
     "metadata": {},
     "output_type": "execute_result"
    }
   ],
   "source": [
    "df2['Preferred Foot'].head()"
   ]
  },
  {
   "cell_type": "markdown",
   "metadata": {},
   "source": [
    "### New variables\n"
   ]
  },
  {
   "cell_type": "markdown",
   "metadata": {},
   "source": [
    "Finally we will create a new variable to use in the analysis of our problem. \n",
    "\n",
    "We created the variable Growth that represents the difference between the Potential (how good can a player be) and the Overall (how good is a player now), in order to observe how much a player can evolve."
   ]
  },
  {
   "cell_type": "code",
   "execution_count": 28,
   "metadata": {},
   "outputs": [
    {
     "name": "stderr",
     "output_type": "stream",
     "text": [
      "C:\\Users\\User\\Anaconda3\\lib\\site-packages\\ipykernel_launcher.py:1: SettingWithCopyWarning: \n",
      "A value is trying to be set on a copy of a slice from a DataFrame.\n",
      "Try using .loc[row_indexer,col_indexer] = value instead\n",
      "\n",
      "See the caveats in the documentation: http://pandas.pydata.org/pandas-docs/stable/indexing.html#indexing-view-versus-copy\n",
      "  \"\"\"Entry point for launching an IPython kernel.\n"
     ]
    }
   ],
   "source": [
    "df2['Growth'] = df2['Potential']-df2['Overall']"
   ]
  },
  {
   "cell_type": "markdown",
   "metadata": {},
   "source": [
    "We can see the results."
   ]
  },
  {
   "cell_type": "code",
   "execution_count": 29,
   "metadata": {},
   "outputs": [
    {
     "data": {
      "text/html": [
       "<div>\n",
       "<style scoped>\n",
       "    .dataframe tbody tr th:only-of-type {\n",
       "        vertical-align: middle;\n",
       "    }\n",
       "\n",
       "    .dataframe tbody tr th {\n",
       "        vertical-align: top;\n",
       "    }\n",
       "\n",
       "    .dataframe thead th {\n",
       "        text-align: right;\n",
       "    }\n",
       "</style>\n",
       "<table border=\"1\" class=\"dataframe\">\n",
       "  <thead>\n",
       "    <tr style=\"text-align: right;\">\n",
       "      <th></th>\n",
       "      <th>Name</th>\n",
       "      <th>Age</th>\n",
       "      <th>Nationality</th>\n",
       "      <th>Overall</th>\n",
       "      <th>Potential</th>\n",
       "      <th>Value</th>\n",
       "      <th>Wage</th>\n",
       "      <th>Preferred Foot</th>\n",
       "      <th>International Reputation</th>\n",
       "      <th>Weak Foot</th>\n",
       "      <th>...</th>\n",
       "      <th>Marking</th>\n",
       "      <th>StandingTackle</th>\n",
       "      <th>SlidingTackle</th>\n",
       "      <th>GKDiving</th>\n",
       "      <th>GKHandling</th>\n",
       "      <th>GKKicking</th>\n",
       "      <th>GKPositioning</th>\n",
       "      <th>GKReflexes</th>\n",
       "      <th>Release Clause</th>\n",
       "      <th>Growth</th>\n",
       "    </tr>\n",
       "    <tr>\n",
       "      <th>ID</th>\n",
       "      <th></th>\n",
       "      <th></th>\n",
       "      <th></th>\n",
       "      <th></th>\n",
       "      <th></th>\n",
       "      <th></th>\n",
       "      <th></th>\n",
       "      <th></th>\n",
       "      <th></th>\n",
       "      <th></th>\n",
       "      <th></th>\n",
       "      <th></th>\n",
       "      <th></th>\n",
       "      <th></th>\n",
       "      <th></th>\n",
       "      <th></th>\n",
       "      <th></th>\n",
       "      <th></th>\n",
       "      <th></th>\n",
       "      <th></th>\n",
       "      <th></th>\n",
       "    </tr>\n",
       "  </thead>\n",
       "  <tbody>\n",
       "    <tr>\n",
       "      <th>158023</th>\n",
       "      <td>L. Messi</td>\n",
       "      <td>31</td>\n",
       "      <td>Argentina</td>\n",
       "      <td>94</td>\n",
       "      <td>94</td>\n",
       "      <td>110500000.0</td>\n",
       "      <td>565000.0</td>\n",
       "      <td>0</td>\n",
       "      <td>5.0</td>\n",
       "      <td>4.0</td>\n",
       "      <td>...</td>\n",
       "      <td>33.0</td>\n",
       "      <td>28.0</td>\n",
       "      <td>26.0</td>\n",
       "      <td>6.0</td>\n",
       "      <td>11.0</td>\n",
       "      <td>15.0</td>\n",
       "      <td>14.0</td>\n",
       "      <td>8.0</td>\n",
       "      <td>226500000.0</td>\n",
       "      <td>0</td>\n",
       "    </tr>\n",
       "    <tr>\n",
       "      <th>20801</th>\n",
       "      <td>Cristiano Ronaldo</td>\n",
       "      <td>33</td>\n",
       "      <td>Portugal</td>\n",
       "      <td>94</td>\n",
       "      <td>94</td>\n",
       "      <td>77000000.0</td>\n",
       "      <td>405000.0</td>\n",
       "      <td>1</td>\n",
       "      <td>5.0</td>\n",
       "      <td>4.0</td>\n",
       "      <td>...</td>\n",
       "      <td>28.0</td>\n",
       "      <td>31.0</td>\n",
       "      <td>23.0</td>\n",
       "      <td>7.0</td>\n",
       "      <td>11.0</td>\n",
       "      <td>15.0</td>\n",
       "      <td>14.0</td>\n",
       "      <td>11.0</td>\n",
       "      <td>127100000.0</td>\n",
       "      <td>0</td>\n",
       "    </tr>\n",
       "    <tr>\n",
       "      <th>190871</th>\n",
       "      <td>Neymar Jr</td>\n",
       "      <td>26</td>\n",
       "      <td>Brazil</td>\n",
       "      <td>92</td>\n",
       "      <td>93</td>\n",
       "      <td>118500000.0</td>\n",
       "      <td>290000.0</td>\n",
       "      <td>1</td>\n",
       "      <td>5.0</td>\n",
       "      <td>5.0</td>\n",
       "      <td>...</td>\n",
       "      <td>27.0</td>\n",
       "      <td>24.0</td>\n",
       "      <td>33.0</td>\n",
       "      <td>9.0</td>\n",
       "      <td>9.0</td>\n",
       "      <td>15.0</td>\n",
       "      <td>15.0</td>\n",
       "      <td>11.0</td>\n",
       "      <td>228100000.0</td>\n",
       "      <td>1</td>\n",
       "    </tr>\n",
       "    <tr>\n",
       "      <th>193080</th>\n",
       "      <td>De Gea</td>\n",
       "      <td>27</td>\n",
       "      <td>Spain</td>\n",
       "      <td>91</td>\n",
       "      <td>93</td>\n",
       "      <td>72000000.0</td>\n",
       "      <td>260000.0</td>\n",
       "      <td>1</td>\n",
       "      <td>4.0</td>\n",
       "      <td>3.0</td>\n",
       "      <td>...</td>\n",
       "      <td>15.0</td>\n",
       "      <td>21.0</td>\n",
       "      <td>13.0</td>\n",
       "      <td>90.0</td>\n",
       "      <td>85.0</td>\n",
       "      <td>87.0</td>\n",
       "      <td>88.0</td>\n",
       "      <td>94.0</td>\n",
       "      <td>138600000.0</td>\n",
       "      <td>2</td>\n",
       "    </tr>\n",
       "    <tr>\n",
       "      <th>192985</th>\n",
       "      <td>K. De Bruyne</td>\n",
       "      <td>27</td>\n",
       "      <td>Belgium</td>\n",
       "      <td>91</td>\n",
       "      <td>92</td>\n",
       "      <td>102000000.0</td>\n",
       "      <td>355000.0</td>\n",
       "      <td>1</td>\n",
       "      <td>4.0</td>\n",
       "      <td>5.0</td>\n",
       "      <td>...</td>\n",
       "      <td>68.0</td>\n",
       "      <td>58.0</td>\n",
       "      <td>51.0</td>\n",
       "      <td>15.0</td>\n",
       "      <td>13.0</td>\n",
       "      <td>5.0</td>\n",
       "      <td>10.0</td>\n",
       "      <td>13.0</td>\n",
       "      <td>196400000.0</td>\n",
       "      <td>1</td>\n",
       "    </tr>\n",
       "  </tbody>\n",
       "</table>\n",
       "<p>5 rows × 52 columns</p>\n",
       "</div>"
      ],
      "text/plain": [
       "                     Name  Age Nationality  Overall  Potential        Value  \\\n",
       "ID                                                                            \n",
       "158023           L. Messi   31   Argentina       94         94  110500000.0   \n",
       "20801   Cristiano Ronaldo   33    Portugal       94         94   77000000.0   \n",
       "190871          Neymar Jr   26      Brazil       92         93  118500000.0   \n",
       "193080             De Gea   27       Spain       91         93   72000000.0   \n",
       "192985       K. De Bruyne   27     Belgium       91         92  102000000.0   \n",
       "\n",
       "            Wage  Preferred Foot  International Reputation  Weak Foot  ...  \\\n",
       "ID                                                                     ...   \n",
       "158023  565000.0               0                       5.0        4.0  ...   \n",
       "20801   405000.0               1                       5.0        4.0  ...   \n",
       "190871  290000.0               1                       5.0        5.0  ...   \n",
       "193080  260000.0               1                       4.0        3.0  ...   \n",
       "192985  355000.0               1                       4.0        5.0  ...   \n",
       "\n",
       "        Marking StandingTackle SlidingTackle  GKDiving GKHandling  GKKicking  \\\n",
       "ID                                                                             \n",
       "158023     33.0           28.0          26.0       6.0       11.0       15.0   \n",
       "20801      28.0           31.0          23.0       7.0       11.0       15.0   \n",
       "190871     27.0           24.0          33.0       9.0        9.0       15.0   \n",
       "193080     15.0           21.0          13.0      90.0       85.0       87.0   \n",
       "192985     68.0           58.0          51.0      15.0       13.0        5.0   \n",
       "\n",
       "        GKPositioning  GKReflexes  Release Clause  Growth  \n",
       "ID                                                         \n",
       "158023           14.0         8.0     226500000.0       0  \n",
       "20801            14.0        11.0     127100000.0       0  \n",
       "190871           15.0        11.0     228100000.0       1  \n",
       "193080           88.0        94.0     138600000.0       2  \n",
       "192985           10.0        13.0     196400000.0       1  \n",
       "\n",
       "[5 rows x 52 columns]"
      ]
     },
     "execution_count": 29,
     "metadata": {},
     "output_type": "execute_result"
    }
   ],
   "source": [
    "df2.head()"
   ]
  },
  {
   "cell_type": "markdown",
   "metadata": {},
   "source": [
    "## Data Analysis"
   ]
  },
  {
   "cell_type": "markdown",
   "metadata": {},
   "source": [
    "In this part of the project we will try to make sense of our dataframe and what conclusions can we take with it. \n",
    "\n",
    "We decided to join the positions and only work with the most important ones, so we did the following:"
   ]
  },
  {
   "cell_type": "code",
   "execution_count": 30,
   "metadata": {},
   "outputs": [
    {
     "name": "stderr",
     "output_type": "stream",
     "text": [
      "C:\\Users\\User\\Anaconda3\\lib\\site-packages\\ipykernel_launcher.py:1: SettingWithCopyWarning: \n",
      "A value is trying to be set on a copy of a slice from a DataFrame.\n",
      "Try using .loc[row_indexer,col_indexer] = value instead\n",
      "\n",
      "See the caveats in the documentation: http://pandas.pydata.org/pandas-docs/stable/indexing.html#indexing-view-versus-copy\n",
      "  \"\"\"Entry point for launching an IPython kernel.\n",
      "C:\\Users\\User\\Anaconda3\\lib\\site-packages\\ipykernel_launcher.py:2: SettingWithCopyWarning: \n",
      "A value is trying to be set on a copy of a slice from a DataFrame.\n",
      "Try using .loc[row_indexer,col_indexer] = value instead\n",
      "\n",
      "See the caveats in the documentation: http://pandas.pydata.org/pandas-docs/stable/indexing.html#indexing-view-versus-copy\n",
      "  \n",
      "C:\\Users\\User\\Anaconda3\\lib\\site-packages\\ipykernel_launcher.py:3: SettingWithCopyWarning: \n",
      "A value is trying to be set on a copy of a slice from a DataFrame.\n",
      "Try using .loc[row_indexer,col_indexer] = value instead\n",
      "\n",
      "See the caveats in the documentation: http://pandas.pydata.org/pandas-docs/stable/indexing.html#indexing-view-versus-copy\n",
      "  This is separate from the ipykernel package so we can avoid doing imports until\n",
      "C:\\Users\\User\\Anaconda3\\lib\\site-packages\\ipykernel_launcher.py:4: SettingWithCopyWarning: \n",
      "A value is trying to be set on a copy of a slice from a DataFrame.\n",
      "Try using .loc[row_indexer,col_indexer] = value instead\n",
      "\n",
      "See the caveats in the documentation: http://pandas.pydata.org/pandas-docs/stable/indexing.html#indexing-view-versus-copy\n",
      "  after removing the cwd from sys.path.\n",
      "C:\\Users\\User\\Anaconda3\\lib\\site-packages\\ipykernel_launcher.py:5: SettingWithCopyWarning: \n",
      "A value is trying to be set on a copy of a slice from a DataFrame.\n",
      "Try using .loc[row_indexer,col_indexer] = value instead\n",
      "\n",
      "See the caveats in the documentation: http://pandas.pydata.org/pandas-docs/stable/indexing.html#indexing-view-versus-copy\n",
      "  \"\"\"\n",
      "C:\\Users\\User\\Anaconda3\\lib\\site-packages\\ipykernel_launcher.py:6: SettingWithCopyWarning: \n",
      "A value is trying to be set on a copy of a slice from a DataFrame.\n",
      "Try using .loc[row_indexer,col_indexer] = value instead\n",
      "\n",
      "See the caveats in the documentation: http://pandas.pydata.org/pandas-docs/stable/indexing.html#indexing-view-versus-copy\n",
      "  \n",
      "C:\\Users\\User\\Anaconda3\\lib\\site-packages\\ipykernel_launcher.py:7: SettingWithCopyWarning: \n",
      "A value is trying to be set on a copy of a slice from a DataFrame.\n",
      "Try using .loc[row_indexer,col_indexer] = value instead\n",
      "\n",
      "See the caveats in the documentation: http://pandas.pydata.org/pandas-docs/stable/indexing.html#indexing-view-versus-copy\n",
      "  import sys\n",
      "C:\\Users\\User\\Anaconda3\\lib\\site-packages\\ipykernel_launcher.py:8: SettingWithCopyWarning: \n",
      "A value is trying to be set on a copy of a slice from a DataFrame.\n",
      "Try using .loc[row_indexer,col_indexer] = value instead\n",
      "\n",
      "See the caveats in the documentation: http://pandas.pydata.org/pandas-docs/stable/indexing.html#indexing-view-versus-copy\n",
      "  \n",
      "C:\\Users\\User\\Anaconda3\\lib\\site-packages\\ipykernel_launcher.py:9: SettingWithCopyWarning: \n",
      "A value is trying to be set on a copy of a slice from a DataFrame.\n",
      "Try using .loc[row_indexer,col_indexer] = value instead\n",
      "\n",
      "See the caveats in the documentation: http://pandas.pydata.org/pandas-docs/stable/indexing.html#indexing-view-versus-copy\n",
      "  if __name__ == '__main__':\n",
      "C:\\Users\\User\\Anaconda3\\lib\\site-packages\\ipykernel_launcher.py:10: SettingWithCopyWarning: \n",
      "A value is trying to be set on a copy of a slice from a DataFrame.\n",
      "Try using .loc[row_indexer,col_indexer] = value instead\n",
      "\n",
      "See the caveats in the documentation: http://pandas.pydata.org/pandas-docs/stable/indexing.html#indexing-view-versus-copy\n",
      "  # Remove the CWD from sys.path while we load stuff.\n",
      "C:\\Users\\User\\Anaconda3\\lib\\site-packages\\ipykernel_launcher.py:11: SettingWithCopyWarning: \n",
      "A value is trying to be set on a copy of a slice from a DataFrame.\n",
      "Try using .loc[row_indexer,col_indexer] = value instead\n",
      "\n",
      "See the caveats in the documentation: http://pandas.pydata.org/pandas-docs/stable/indexing.html#indexing-view-versus-copy\n",
      "  # This is added back by InteractiveShellApp.init_path()\n",
      "C:\\Users\\User\\Anaconda3\\lib\\site-packages\\ipykernel_launcher.py:12: SettingWithCopyWarning: \n",
      "A value is trying to be set on a copy of a slice from a DataFrame.\n",
      "Try using .loc[row_indexer,col_indexer] = value instead\n",
      "\n",
      "See the caveats in the documentation: http://pandas.pydata.org/pandas-docs/stable/indexing.html#indexing-view-versus-copy\n",
      "  if sys.path[0] == '':\n",
      "C:\\Users\\User\\Anaconda3\\lib\\site-packages\\ipykernel_launcher.py:13: SettingWithCopyWarning: \n",
      "A value is trying to be set on a copy of a slice from a DataFrame.\n",
      "Try using .loc[row_indexer,col_indexer] = value instead\n",
      "\n",
      "See the caveats in the documentation: http://pandas.pydata.org/pandas-docs/stable/indexing.html#indexing-view-versus-copy\n",
      "  del sys.path[0]\n",
      "C:\\Users\\User\\Anaconda3\\lib\\site-packages\\ipykernel_launcher.py:14: SettingWithCopyWarning: \n",
      "A value is trying to be set on a copy of a slice from a DataFrame.\n",
      "Try using .loc[row_indexer,col_indexer] = value instead\n",
      "\n",
      "See the caveats in the documentation: http://pandas.pydata.org/pandas-docs/stable/indexing.html#indexing-view-versus-copy\n",
      "  \n",
      "C:\\Users\\User\\Anaconda3\\lib\\site-packages\\ipykernel_launcher.py:15: SettingWithCopyWarning: \n",
      "A value is trying to be set on a copy of a slice from a DataFrame.\n",
      "Try using .loc[row_indexer,col_indexer] = value instead\n",
      "\n",
      "See the caveats in the documentation: http://pandas.pydata.org/pandas-docs/stable/indexing.html#indexing-view-versus-copy\n",
      "  from ipykernel import kernelapp as app\n",
      "C:\\Users\\User\\Anaconda3\\lib\\site-packages\\ipykernel_launcher.py:16: SettingWithCopyWarning: \n",
      "A value is trying to be set on a copy of a slice from a DataFrame.\n",
      "Try using .loc[row_indexer,col_indexer] = value instead\n",
      "\n",
      "See the caveats in the documentation: http://pandas.pydata.org/pandas-docs/stable/indexing.html#indexing-view-versus-copy\n",
      "  app.launch_new_instance()\n",
      "C:\\Users\\User\\Anaconda3\\lib\\site-packages\\ipykernel_launcher.py:17: SettingWithCopyWarning: \n",
      "A value is trying to be set on a copy of a slice from a DataFrame.\n",
      "Try using .loc[row_indexer,col_indexer] = value instead\n",
      "\n",
      "See the caveats in the documentation: http://pandas.pydata.org/pandas-docs/stable/indexing.html#indexing-view-versus-copy\n"
     ]
    },
    {
     "data": {
      "text/plain": [
       "CB     3088\n",
       "ST     2667\n",
       "CM     2180\n",
       "GK     2025\n",
       "RM     1494\n",
       "LM     1476\n",
       "CDM    1439\n",
       "LB     1400\n",
       "RB     1378\n",
       "CAM    1000\n",
       "Name: Position, dtype: int64"
      ]
     },
     "execution_count": 30,
     "metadata": {},
     "output_type": "execute_result"
    }
   ],
   "source": [
    "df2[\"Position\"]= df2[\"Position\"].str.replace(\"RWB\", \"RB\", case = False)\n",
    "df2[\"Position\"]= df2[\"Position\"].str.replace(\"LWB\", \"LB\", case = False)\n",
    "df2[\"Position\"]= df2[\"Position\"].str.replace(\"RCB\", \"CB\", case = False)\n",
    "df2[\"Position\"]= df2[\"Position\"].str.replace(\"LCB\", \"CB\", case = False)\n",
    "df2[\"Position\"]= df2[\"Position\"].str.replace(\"RDM\", \"CDM\", case = False)\n",
    "df2[\"Position\"]= df2[\"Position\"].str.replace(\"LDM\", \"CDM\", case = False)\n",
    "df2[\"Position\"]= df2[\"Position\"].str.replace(\"LCM\", \"CM\", case = False)\n",
    "df2[\"Position\"]= df2[\"Position\"].str.replace(\"RCM\", \"CM\", case = False)\n",
    "df2[\"Position\"]= df2[\"Position\"].str.replace(\"RAM\", \"CAM\", case = False)\n",
    "df2[\"Position\"]= df2[\"Position\"].str.replace(\"LAM\", \"CAM\", case = False)\n",
    "df2[\"Position\"]= df2[\"Position\"].str.replace(\"RS\", \"ST\", case = False)\n",
    "df2[\"Position\"]= df2[\"Position\"].str.replace(\"LS\", \"ST\", case = False)\n",
    "df2[\"Position\"]= df2[\"Position\"].str.replace(\"RF\", \"ST\", case = False)\n",
    "df2[\"Position\"]= df2[\"Position\"].str.replace(\"LF\", \"ST\", case = False)\n",
    "df2[\"Position\"]= df2[\"Position\"].str.replace(\"CF\", \"ST\", case = False)\n",
    "df2[\"Position\"]= df2[\"Position\"].str.replace(\"LW\", \"LM\", case = False)\n",
    "df2[\"Position\"]= df2[\"Position\"].str.replace(\"RW\", \"RM\", case = False)\n",
    "df2['Position'].value_counts()\n"
   ]
  },
  {
   "cell_type": "markdown",
   "metadata": {},
   "source": [
    "We can observe how many football players we have in each position."
   ]
  },
  {
   "cell_type": "code",
   "execution_count": 31,
   "metadata": {},
   "outputs": [
    {
     "data": {
      "image/png": "[encoded data removed]",
      "text/plain": [
       "<Figure size 720x360 with 1 Axes>"
      ]
     },
     "metadata": {
      "needs_background": "light"
     },
     "output_type": "display_data"
    }
   ],
   "source": [
    "plt.rcParams['figure.figsize'] = (10, 5)\n",
    "sns.countplot(df2[\"Position\"], palette = 'Blues')\n",
    "plt.title('Number of Players for each Position', fontsize = 20)\n",
    "plt.show()"
   ]
  },
  {
   "cell_type": "markdown",
   "metadata": {},
   "source": [
    "### Outliers\n",
    "\n",
    "We decided to observe the outliers of the variables that we considered more important to our future analysis - Age, Potential, Value, Overall and Growth. \n",
    "\n",
    "We will look at their distribution and then establish which ones we want to clean.\n",
    "\n",
    "Let's start with the Age:\n"
   ]
  },
  {
   "cell_type": "code",
   "execution_count": 32,
   "metadata": {},
   "outputs": [
    {
     "data": {
      "text/plain": [
       "Text(0.5, 0, 'Players Age')"
      ]
     },
     "execution_count": 32,
     "metadata": {},
     "output_type": "execute_result"
    },
    {
     "data": {
      "image/png": "[encoded data removed]",
      "text/plain": [
       "<Figure size 720x360 with 1 Axes>"
      ]
     },
     "metadata": {
      "needs_background": "light"
     },
     "output_type": "display_data"
    }
   ],
   "source": [
    "ax = df2['Age'].plot.hist(bins=20)\n",
    "ax.set_xlabel(\"Players Age\")"
   ]
  },
  {
   "cell_type": "code",
   "execution_count": 33,
   "metadata": {},
   "outputs": [
    {
     "name": "stdout",
     "output_type": "stream",
     "text": [
      "Percentile outliers: \n",
      "Valid interval: [ 17.0 ,  36.0 ]\n",
      "Number of lower outliers:  42\n",
      "Number of upper outliers:  164\n",
      "\n",
      "\n",
      "Tukey’s fence outliers: \n",
      "Valid interval: [ 10.5 ,  38.5 ]\n",
      "Number of lower outliers:  0\n",
      "Number of upper outliers:  47\n",
      "\n",
      "\n",
      "Standard deviation outliers: \n",
      "Valid interval: [ 11.112119093327983 ,  39.130124803734894 ]\n",
      "Number of lower outliers:  0\n",
      "Number of upper outliers:  22\n",
      "\n",
      "\n"
     ]
    },
    {
     "data": {
      "text/plain": [
       "<matplotlib.axes._subplots.AxesSubplot at 0x288837d6f60>"
      ]
     },
     "execution_count": 33,
     "metadata": {},
     "output_type": "execute_result"
    },
    {
     "data": {
      "image/png": "[encoded data removed]",
      "text/plain": [
       "<Figure size 720x360 with 1 Axes>"
      ]
     },
     "metadata": {
      "needs_background": "light"
     },
     "output_type": "display_data"
    }
   ],
   "source": [
    "p1 = np.percentile(df2['Age'], 1)\n",
    "p25 = np.percentile(df2['Age'], 25)\n",
    "p75 = np.percentile(df2['Age'], 75)\n",
    "p99 = np.percentile(df2['Age'], 99)\n",
    "\n",
    "iqr = p75 - p25\n",
    "\n",
    "mu = np.mean(df2['Age'])\n",
    "sigma = np.std(df2['Age'])\n",
    "\n",
    "print('Percentile outliers: ')\n",
    "print('Valid interval: [', p1, ', ', p99, ']')\n",
    "print('Number of lower outliers: ', np.sum(df2['Age'] < p1))\n",
    "print('Number of upper outliers: ', np.sum(df2['Age'] > p99))\n",
    "\n",
    "print('\\n')\n",
    "\n",
    "print('Tukey’s fence outliers: ')\n",
    "print('Valid interval: [', p25 - 1.5*iqr, ', ', p75 + 1.5*iqr, ']')\n",
    "print('Number of lower outliers: ', np.sum(df2['Age'] < p25 - 1.5*iqr))\n",
    "print('Number of upper outliers: ', np.sum(df2['Age'] > p75 + 1.5*iqr))\n",
    "\n",
    "print('\\n')\n",
    "\n",
    "print('Standard deviation outliers: ')\n",
    "print('Valid interval: [', mu - 3*sigma, ', ', mu + 3*sigma, ']')\n",
    "print('Number of lower outliers: ', np.sum(df2['Age'] < mu - 3*sigma))\n",
    "print('Number of upper outliers: ', np.sum(df2['Age'] > mu + 3*sigma))\n",
    "\n",
    "print('\\n')\n",
    "\n",
    "df2[['Age']].boxplot()"
   ]
  },
  {
   "cell_type": "markdown",
   "metadata": {},
   "source": [
    "Then we analyzed Potential."
   ]
  },
  {
   "cell_type": "code",
   "execution_count": 34,
   "metadata": {},
   "outputs": [
    {
     "data": {
      "text/plain": [
       "Text(0.5, 0, 'Players Potential')"
      ]
     },
     "execution_count": 34,
     "metadata": {},
     "output_type": "execute_result"
    },
    {
     "data": {
      "image/png": "[encoded data removed]",
      "text/plain": [
       "<Figure size 720x360 with 1 Axes>"
      ]
     },
     "metadata": {
      "needs_background": "light"
     },
     "output_type": "display_data"
    }
   ],
   "source": [
    "ax = df2['Potential'].plot.hist(bins=20)\n",
    "ax.set_xlabel(\"Players Potential\")"
   ]
  },
  {
   "cell_type": "code",
   "execution_count": 35,
   "metadata": {},
   "outputs": [
    {
     "name": "stdout",
     "output_type": "stream",
     "text": [
      "Percentile outliers: \n",
      "Valid interval: [ 58.0 ,  87.0 ]\n",
      "Number of lower outliers:  116\n",
      "Number of upper outliers:  131\n",
      "\n",
      "\n",
      "Tukey’s fence outliers: \n",
      "Valid interval: [ 55.0 ,  87.0 ]\n",
      "Number of lower outliers:  29\n",
      "Number of upper outliers:  131\n",
      "\n",
      "\n",
      "Standard deviation outliers: \n",
      "Valid interval: [ 52.92772418854369 ,  89.72042702102263 ]\n",
      "Number of lower outliers:  16\n",
      "Number of upper outliers:  50\n",
      "\n",
      "\n"
     ]
    },
    {
     "data": {
      "text/plain": [
       "<matplotlib.axes._subplots.AxesSubplot at 0x288838de0b8>"
      ]
     },
     "execution_count": 35,
     "metadata": {},
     "output_type": "execute_result"
    },
    {
     "data": {
      "image/png": "[encoded data removed]",
      "text/plain": [
       "<Figure size 720x360 with 1 Axes>"
      ]
     },
     "metadata": {
      "needs_background": "light"
     },
     "output_type": "display_data"
    }
   ],
   "source": [
    "p1 = np.percentile(df2['Potential'], 1)\n",
    "p25 = np.percentile(df2['Potential'], 25)\n",
    "p75 = np.percentile(df2['Potential'], 75)\n",
    "p99 = np.percentile(df2['Potential'], 99)\n",
    "\n",
    "iqr = p75 - p25\n",
    "\n",
    "mu = np.mean(df2['Potential'])\n",
    "sigma = np.std(df2['Potential'])\n",
    "\n",
    "print('Percentile outliers: ')\n",
    "print('Valid interval: [', p1, ', ', p99, ']')\n",
    "print('Number of lower outliers: ', np.sum(df2['Potential'] < p1))\n",
    "print('Number of upper outliers: ', np.sum(df2['Potential'] > p99))\n",
    "\n",
    "print('\\n')\n",
    "\n",
    "print('Tukey’s fence outliers: ')\n",
    "print('Valid interval: [', p25 - 1.5*iqr, ', ', p75 + 1.5*iqr, ']')\n",
    "print('Number of lower outliers: ', np.sum(df2['Potential'] < p25 - 1.5*iqr))\n",
    "print('Number of upper outliers: ', np.sum(df2['Potential'] > p75 + 1.5*iqr))\n",
    "\n",
    "print('\\n')\n",
    "\n",
    "print('Standard deviation outliers: ')\n",
    "print('Valid interval: [', mu - 3*sigma, ', ', mu + 3*sigma, ']')\n",
    "print('Number of lower outliers: ', np.sum(df2['Potential'] < mu - 3*sigma))\n",
    "print('Number of upper outliers: ', np.sum(df2['Potential'] > mu + 3*sigma))\n",
    "\n",
    "print('\\n')\n",
    "\n",
    "df2[['Potential']].boxplot()"
   ]
  },
  {
   "cell_type": "markdown",
   "metadata": {},
   "source": [
    "Thirdly we observed the Value."
   ]
  },
  {
   "cell_type": "code",
   "execution_count": 36,
   "metadata": {},
   "outputs": [
    {
     "data": {
      "text/plain": [
       "Text(0.5, 0, 'Players Value')"
      ]
     },
     "execution_count": 36,
     "metadata": {},
     "output_type": "execute_result"
    },
    {
     "data": {
      "image/png": "[encoded data removed]",
      "text/plain": [
       "<Figure size 720x360 with 1 Axes>"
      ]
     },
     "metadata": {
      "needs_background": "light"
     },
     "output_type": "display_data"
    }
   ],
   "source": [
    "ax = df2['Value'].plot.hist(bins=20)\n",
    "ax.set_xlabel(\"Players Value\")"
   ]
  },
  {
   "cell_type": "code",
   "execution_count": 37,
   "metadata": {},
   "outputs": [
    {
     "name": "stdout",
     "output_type": "stream",
     "text": [
      "Percentile outliers: \n",
      "Valid interval: [ 0.0 ,  26500000.0 ]\n",
      "Number of lower outliers:  0\n",
      "Number of upper outliers:  177\n",
      "\n",
      "\n",
      "Tukey’s fence outliers: \n",
      "Valid interval: [ -2250000.0 ,  4550000.0 ]\n",
      "Number of lower outliers:  0\n",
      "Number of upper outliers:  2487\n",
      "\n",
      "\n",
      "Standard deviation outliers: \n",
      "Valid interval: [ -14390286.756009968 ,  19225744.958467674 ]\n",
      "Number of lower outliers:  0\n",
      "Number of upper outliers:  321\n",
      "\n",
      "\n"
     ]
    },
    {
     "data": {
      "text/plain": [
       "<matplotlib.axes._subplots.AxesSubplot at 0x28883983f60>"
      ]
     },
     "execution_count": 37,
     "metadata": {},
     "output_type": "execute_result"
    },
    {
     "data": {
      "image/png": "[encoded data removed]",
      "text/plain": [
       "<Figure size 720x360 with 1 Axes>"
      ]
     },
     "metadata": {
      "needs_background": "light"
     },
     "output_type": "display_data"
    }
   ],
   "source": [
    "p1 = np.percentile(df2['Value'], 1)\n",
    "p25 = np.percentile(df2['Value'], 25)\n",
    "p75 = np.percentile(df2['Value'], 75)\n",
    "p99 = np.percentile(df2['Value'], 99)\n",
    "\n",
    "iqr = p75 - p25\n",
    "\n",
    "mu = np.mean(df2['Value'])\n",
    "sigma = np.std(df2['Value'])\n",
    "\n",
    "print('Percentile outliers: ')\n",
    "print('Valid interval: [', p1, ', ', p99, ']')\n",
    "print('Number of lower outliers: ', np.sum(df2['Value'] < p1))\n",
    "print('Number of upper outliers: ', np.sum(df2['Value'] > p99))\n",
    "\n",
    "print('\\n')\n",
    "\n",
    "print('Tukey’s fence outliers: ')\n",
    "print('Valid interval: [', p25 - 1.5*iqr, ', ', p75 + 1.5*iqr, ']')\n",
    "print('Number of lower outliers: ', np.sum(df2['Value'] < p25 - 1.5*iqr))\n",
    "print('Number of upper outliers: ', np.sum(df2['Value'] > p75 + 1.5*iqr))\n",
    "\n",
    "print('\\n')\n",
    "\n",
    "print('Standard deviation outliers: ')\n",
    "print('Valid interval: [', mu - 3*sigma, ', ', mu + 3*sigma, ']')\n",
    "print('Number of lower outliers: ', np.sum(df2['Value'] < mu - 3*sigma))\n",
    "print('Number of upper outliers: ', np.sum(df2['Value'] > mu + 3*sigma))\n",
    "\n",
    "print('\\n')\n",
    "\n",
    "df2[['Value']].boxplot()"
   ]
  },
  {
   "cell_type": "markdown",
   "metadata": {},
   "source": [
    "After we analyzed Overall."
   ]
  },
  {
   "cell_type": "code",
   "execution_count": 38,
   "metadata": {},
   "outputs": [
    {
     "data": {
      "text/plain": [
       "Text(0.5, 0, 'Players Overall')"
      ]
     },
     "execution_count": 38,
     "metadata": {},
     "output_type": "execute_result"
    },
    {
     "data": {
      "image/png": "[encoded data removed]",
      "text/plain": [
       "<Figure size 720x360 with 1 Axes>"
      ]
     },
     "metadata": {
      "needs_background": "light"
     },
     "output_type": "display_data"
    }
   ],
   "source": [
    "ax = df2['Overall'].plot.hist(bins=20)\n",
    "ax.set_xlabel(\"Players Overall\")"
   ]
  },
  {
   "cell_type": "code",
   "execution_count": 39,
   "metadata": {},
   "outputs": [
    {
     "name": "stdout",
     "output_type": "stream",
     "text": [
      "Percentile outliers: \n",
      "Valid interval: [ 50.0 ,  83.0 ]\n",
      "Number of lower outliers:  89\n",
      "Number of upper outliers:  155\n",
      "\n",
      "\n",
      "Tukey’s fence outliers: \n",
      "Valid interval: [ 48.5 ,  84.5 ]\n",
      "Number of lower outliers:  53\n",
      "Number of upper outliers:  110\n",
      "\n",
      "\n",
      "Standard deviation outliers: \n",
      "Valid interval: [ 45.51453648702879 ,  86.99331605058073 ]\n",
      "Number of lower outliers:  0\n",
      "Number of upper outliers:  55\n",
      "\n",
      "\n"
     ]
    },
    {
     "data": {
      "text/plain": [
       "<matplotlib.axes._subplots.AxesSubplot at 0x28883ae34e0>"
      ]
     },
     "execution_count": 39,
     "metadata": {},
     "output_type": "execute_result"
    },
    {
     "data": {
      "image/png": "[encoded data removed]",
      "text/plain": [
       "<Figure size 720x360 with 1 Axes>"
      ]
     },
     "metadata": {
      "needs_background": "light"
     },
     "output_type": "display_data"
    }
   ],
   "source": [
    "p1 = np.percentile(df2['Overall'], 1)\n",
    "p25 = np.percentile(df2['Overall'], 25)\n",
    "p75 = np.percentile(df2['Overall'], 75)\n",
    "p99 = np.percentile(df2['Overall'], 99)\n",
    "\n",
    "iqr = p75 - p25\n",
    "\n",
    "mu = np.mean(df2['Overall'])\n",
    "sigma = np.std(df2['Overall'])\n",
    "\n",
    "print('Percentile outliers: ')\n",
    "print('Valid interval: [', p1, ', ', p99, ']')\n",
    "print('Number of lower outliers: ', np.sum(df2['Overall'] < p1))\n",
    "print('Number of upper outliers: ', np.sum(df2['Overall'] > p99))\n",
    "\n",
    "print('\\n')\n",
    "\n",
    "print('Tukey’s fence outliers: ')\n",
    "print('Valid interval: [', p25 - 1.5*iqr, ', ', p75 + 1.5*iqr, ']')\n",
    "print('Number of lower outliers: ', np.sum(df2['Overall'] < p25 - 1.5*iqr))\n",
    "print('Number of upper outliers: ', np.sum(df2['Overall'] > p75 + 1.5*iqr))\n",
    "\n",
    "print('\\n')\n",
    "\n",
    "print('Standard deviation outliers: ')\n",
    "print('Valid interval: [', mu - 3*sigma, ', ', mu + 3*sigma, ']')\n",
    "print('Number of lower outliers: ', np.sum(df2['Overall'] < mu - 3*sigma))\n",
    "print('Number of upper outliers: ', np.sum(df2['Overall'] > mu + 3*sigma))\n",
    "\n",
    "print('\\n')\n",
    "\n",
    "df2[['Overall']].boxplot()"
   ]
  },
  {
   "cell_type": "markdown",
   "metadata": {},
   "source": [
    "At last we analyzed Growth."
   ]
  },
  {
   "cell_type": "code",
   "execution_count": 40,
   "metadata": {},
   "outputs": [
    {
     "data": {
      "text/plain": [
       "Text(0.5, 0, 'Players Growth')"
      ]
     },
     "execution_count": 40,
     "metadata": {},
     "output_type": "execute_result"
    },
    {
     "data": {
      "image/png": "[encoded data removed]",
      "text/plain": [
       "<Figure size 720x360 with 1 Axes>"
      ]
     },
     "metadata": {
      "needs_background": "light"
     },
     "output_type": "display_data"
    }
   ],
   "source": [
    "ax = df2['Growth'].plot.hist(bins=20)\n",
    "ax.set_xlabel(\"Players Growth\")"
   ]
  },
  {
   "cell_type": "code",
   "execution_count": 41,
   "metadata": {},
   "outputs": [
    {
     "name": "stdout",
     "output_type": "stream",
     "text": [
      "Percentile outliers: \n",
      "Valid interval: [ 0.0 ,  20.0 ]\n",
      "Number of lower outliers:  0\n",
      "Number of upper outliers:  127\n",
      "\n",
      "\n",
      "Tukey’s fence outliers: \n",
      "Valid interval: [ -13.5 ,  22.5 ]\n",
      "Number of lower outliers:  0\n",
      "Number of upper outliers:  29\n",
      "\n",
      "\n",
      "Standard deviation outliers: \n",
      "Valid interval: [ -11.184301074787687 ,  21.324599746744486 ]\n",
      "Number of lower outliers:  0\n",
      "Number of upper outliers:  66\n",
      "\n",
      "\n"
     ]
    },
    {
     "data": {
      "text/plain": [
       "<matplotlib.axes._subplots.AxesSubplot at 0x28883bec6a0>"
      ]
     },
     "execution_count": 41,
     "metadata": {},
     "output_type": "execute_result"
    },
    {
     "data": {
      "image/png": "[encoded data removed]",
      "text/plain": [
       "<Figure size 720x360 with 1 Axes>"
      ]
     },
     "metadata": {
      "needs_background": "light"
     },
     "output_type": "display_data"
    }
   ],
   "source": [
    "p1 = np.percentile(df2['Growth'], 1)\n",
    "p25 = np.percentile(df2['Growth'], 25)\n",
    "p75 = np.percentile(df2['Growth'], 75)\n",
    "p99 = np.percentile(df2['Growth'], 99)\n",
    "\n",
    "iqr = p75 - p25\n",
    "\n",
    "mu = np.mean(df2['Growth'])\n",
    "sigma = np.std(df2['Growth'])\n",
    "\n",
    "print('Percentile outliers: ')\n",
    "print('Valid interval: [', p1, ', ', p99, ']')\n",
    "print('Number of lower outliers: ', np.sum(df2['Growth'] < p1))\n",
    "print('Number of upper outliers: ', np.sum(df2['Growth'] > p99))\n",
    "\n",
    "print('\\n')\n",
    "\n",
    "print('Tukey’s fence outliers: ')\n",
    "print('Valid interval: [', p25 - 1.5*iqr, ', ', p75 + 1.5*iqr, ']')\n",
    "print('Number of lower outliers: ', np.sum(df2['Growth'] < p25 - 1.5*iqr))\n",
    "print('Number of upper outliers: ', np.sum(df2['Growth'] > p75 + 1.5*iqr))\n",
    "\n",
    "print('\\n')\n",
    "\n",
    "print('Standard deviation outliers: ')\n",
    "print('Valid interval: [', mu - 3*sigma, ', ', mu + 3*sigma, ']')\n",
    "print('Number of lower outliers: ', np.sum(df2['Growth'] < mu - 3*sigma))\n",
    "print('Number of upper outliers: ', np.sum(df2['Growth'] > mu + 3*sigma))\n",
    "\n",
    "print('\\n')\n",
    "\n",
    "df2[['Growth']].boxplot()"
   ]
  },
  {
   "cell_type": "markdown",
   "metadata": {},
   "source": [
    "Before continuing with our Data Analysis it's important to understand which outliers we will eliminate and which will not influence or be important for our conclusions.\n",
    "\n",
    "Thus, we agreed to remove all the outliers from the variable Value. We only removed the inferior outliers from Potential and Overall, because we may want to use the superior ones in our analysis. Regarding Growth, we will aplly the same reasoning, with the difference of not having inferior outliers."
   ]
  },
  {
   "cell_type": "code",
   "execution_count": 42,
   "metadata": {},
   "outputs": [
    {
     "name": "stdout",
     "output_type": "stream",
     "text": [
      "Minimum of Potential:  48 \t\tMinimum of ClipPotential:  55\n",
      "Maximum of Potential:  95 \t\tMaximum of ClipPotential:  87\n"
     ]
    },
    {
     "name": "stderr",
     "output_type": "stream",
     "text": [
      "C:\\Users\\User\\Anaconda3\\lib\\site-packages\\ipykernel_launcher.py:5: SettingWithCopyWarning: \n",
      "A value is trying to be set on a copy of a slice from a DataFrame.\n",
      "Try using .loc[row_indexer,col_indexer] = value instead\n",
      "\n",
      "See the caveats in the documentation: http://pandas.pydata.org/pandas-docs/stable/indexing.html#indexing-view-versus-copy\n",
      "  \"\"\"\n"
     ]
    }
   ],
   "source": [
    "p25 = np.percentile(df2['Potential'], 25)\n",
    "p75 = np.percentile(df2['Potential'], 75)\n",
    "iqr = p75 - p25\n",
    "\n",
    "df2['ClipPotential'] = df2['Potential'].clip(p25 - 1.5*iqr, p75 + 1.5*iqr)\n",
    "\n",
    "print('Minimum of Potential: ', np.min(df2['Potential']), '\\t\\tMinimum of ClipPotential: ', np.min(df2['ClipPotential']))\n",
    "print('Maximum of Potential: ', np.max(df2['Potential']), '\\t\\tMaximum of ClipPotential: ', np.max(df2['ClipPotential']))"
   ]
  },
  {
   "cell_type": "code",
   "execution_count": 43,
   "metadata": {},
   "outputs": [
    {
     "name": "stdout",
     "output_type": "stream",
     "text": [
      "Minimum of Overall:  46 \t\tMinimum of ClipOverall:  48.5\n",
      "Maximum of Overall:  94 \t\tMaximum of ClipOverall:  84.5\n"
     ]
    },
    {
     "name": "stderr",
     "output_type": "stream",
     "text": [
      "C:\\Users\\User\\Anaconda3\\lib\\site-packages\\ipykernel_launcher.py:5: SettingWithCopyWarning: \n",
      "A value is trying to be set on a copy of a slice from a DataFrame.\n",
      "Try using .loc[row_indexer,col_indexer] = value instead\n",
      "\n",
      "See the caveats in the documentation: http://pandas.pydata.org/pandas-docs/stable/indexing.html#indexing-view-versus-copy\n",
      "  \"\"\"\n"
     ]
    }
   ],
   "source": [
    "p25 = np.percentile(df2['Overall'], 25)\n",
    "p75 = np.percentile(df2['Overall'], 75)\n",
    "iqr = p75 - p25\n",
    "\n",
    "df2['ClipOverall'] = df2['Overall'].clip(p25 - 1.5*iqr, p75 + 1.5*iqr)\n",
    "\n",
    "print('Minimum of Overall: ', np.min(df2['Overall']), '\\t\\tMinimum of ClipOverall: ', np.min(df2['ClipOverall']))\n",
    "print('Maximum of Overall: ', np.max(df2['Overall']), '\\t\\tMaximum of ClipOverall: ', np.max(df2['ClipOverall']))"
   ]
  },
  {
   "cell_type": "code",
   "execution_count": 44,
   "metadata": {},
   "outputs": [
    {
     "name": "stdout",
     "output_type": "stream",
     "text": [
      "Minimum of Value:  0.0 \t\tMinimum of ClipValue:  0.0\n",
      "Maximum of Value:  118500000.0 \t\tMaximum of ClipValue:  24550000.0\n"
     ]
    },
    {
     "name": "stderr",
     "output_type": "stream",
     "text": [
      "C:\\Users\\User\\Anaconda3\\lib\\site-packages\\ipykernel_launcher.py:5: SettingWithCopyWarning: \n",
      "A value is trying to be set on a copy of a slice from a DataFrame.\n",
      "Try using .loc[row_indexer,col_indexer] = value instead\n",
      "\n",
      "See the caveats in the documentation: http://pandas.pydata.org/pandas-docs/stable/indexing.html#indexing-view-versus-copy\n",
      "  \"\"\"\n"
     ]
    }
   ],
   "source": [
    "p25 = np.percentile(df2['Value'], 25)\n",
    "p95 = np.percentile(df2['Value'], 95)\n",
    "iqr = p95 - p25\n",
    "\n",
    "df2['ClipValue'] = df2['Value'].clip(p25 - 1.5*iqr, p95 + 1.5*iqr)\n",
    "\n",
    "print('Minimum of Value: ', np.min(df2['Value']), '\\t\\tMinimum of ClipValue: ', np.min(df2['ClipValue']))\n",
    "print('Maximum of Value: ', np.max(df2['Value']), '\\t\\tMaximum of ClipValue: ', np.max(df2['ClipValue']))"
   ]
  },
  {
   "cell_type": "code",
   "execution_count": 45,
   "metadata": {},
   "outputs": [
    {
     "name": "stdout",
     "output_type": "stream",
     "text": [
      "Original dataframe shape:  (18147, 55) \t\tTruncated dataframe shape:  (17937, 55)\n",
      "Original minimum of Potential:  48 \t\tTruncated minimum of Potential truncated:  48\n",
      "Original minimum of Overall:  46 \t\tTruncated minimum of Overall truncated:  46\n",
      "Original maximum of Value:  118500000.0 \t\tTruncated maximum of Value truncated:  24500000.0\n"
     ]
    }
   ],
   "source": [
    "df3 = df2[(df2['Potential'] > p25 - 1.5*iqr) & (df2['Overall'] > p25 - 1.5*iqr) & (df2['Value'] < p95 + 1.5*iqr)]\n",
    "\n",
    "print('Original dataframe shape: ', df2.shape, '\\t\\tTruncated dataframe shape: ', df3.shape)\n",
    "print('Original minimum of Potential: ', np.min(df2['Potential']), '\\t\\tTruncated minimum of Potential truncated: ', np.min(df3['Potential']))\n",
    "print('Original minimum of Overall: ', np.min(df2['Overall']), '\\t\\tTruncated minimum of Overall truncated: ', np.min(df3['Overall']))\n",
    "print('Original maximum of Value: ', np.max(df2['Value']), '\\t\\tTruncated maximum of Value truncated: ', np.max(df3['Value']))"
   ]
  },
  {
   "cell_type": "markdown",
   "metadata": {},
   "source": [
    "we can observe that the size of our dataframe is different."
   ]
  },
  {
   "cell_type": "code",
   "execution_count": 46,
   "metadata": {},
   "outputs": [
    {
     "data": {
      "text/plain": [
       "(17937, 55)"
      ]
     },
     "execution_count": 46,
     "metadata": {},
     "output_type": "execute_result"
    }
   ],
   "source": [
    "df3.shape"
   ]
  },
  {
   "cell_type": "markdown",
   "metadata": {},
   "source": [
    "### Data Analysis"
   ]
  },
  {
   "cell_type": "markdown",
   "metadata": {},
   "source": [
    "We decided to analyze the Potential and the Overall over the Age, because we want to find out if with the increase of the Age there is a decrease of the Growth."
   ]
  },
  {
   "cell_type": "code",
   "execution_count": 47,
   "metadata": {},
   "outputs": [
    {
     "data": {
      "image/png": "[encoded data removed]",
      "text/plain": [
       "<Figure size 720x360 with 1 Axes>"
      ]
     },
     "metadata": {
      "needs_background": "light"
     },
     "output_type": "display_data"
    }
   ],
   "source": [
    "p = sns.lineplot(x = 'Age', y = 'Overall', ci = None, data = df3, label = 'Overall')\n",
    "p = sns.lineplot(x = 'Age', y = 'Potential', ci = None, data = df3, label = 'Potential')\n",
    "p = plt.ylabel('Potential vs Overall')\n",
    "p = plt.legend(loc = 1)"
   ]
  },
  {
   "cell_type": "markdown",
   "metadata": {},
   "source": [
    "As we can see, there is a point where the Overall and the Potential match, where is no longer possible for a player to grow more. \n",
    "\n",
    "With this information, we can recommend to our client that players below 30 years, have much more possibility to grow and become better."
   ]
  },
  {
   "cell_type": "markdown",
   "metadata": {},
   "source": [
    "We know that players at the end of the contract can be bought at zero cost, meaning they can be directly approached without the need to have negotiations with the club he plays for. \n",
    "Therefore, after this we made a table where we can see which players have more potential, more growth and having either a contract ending within 6 months or being free agents. The variable Age was not included due to its lack of importance in what we want to show."
   ]
  },
  {
   "cell_type": "code",
   "execution_count": 48,
   "metadata": {},
   "outputs": [
    {
     "data": {
      "text/html": [
       "<div>\n",
       "<style scoped>\n",
       "    .dataframe tbody tr th:only-of-type {\n",
       "        vertical-align: middle;\n",
       "    }\n",
       "\n",
       "    .dataframe tbody tr th {\n",
       "        vertical-align: top;\n",
       "    }\n",
       "\n",
       "    .dataframe thead th {\n",
       "        text-align: right;\n",
       "    }\n",
       "</style>\n",
       "<table border=\"1\" class=\"dataframe\">\n",
       "  <thead>\n",
       "    <tr style=\"text-align: right;\">\n",
       "      <th></th>\n",
       "      <th>Name</th>\n",
       "      <th>Growth</th>\n",
       "      <th>Potential</th>\n",
       "      <th>Value</th>\n",
       "      <th>Contract Valid Until</th>\n",
       "    </tr>\n",
       "    <tr>\n",
       "      <th>ID</th>\n",
       "      <th></th>\n",
       "      <th></th>\n",
       "      <th></th>\n",
       "      <th></th>\n",
       "      <th></th>\n",
       "    </tr>\n",
       "  </thead>\n",
       "  <tbody>\n",
       "    <tr>\n",
       "      <th>234396</th>\n",
       "      <td>A. Davies</td>\n",
       "      <td>15</td>\n",
       "      <td>87</td>\n",
       "      <td>6000000.0</td>\n",
       "      <td>2018</td>\n",
       "    </tr>\n",
       "    <tr>\n",
       "      <th>237681</th>\n",
       "      <td>T. Kubo</td>\n",
       "      <td>21</td>\n",
       "      <td>85</td>\n",
       "      <td>975000.0</td>\n",
       "      <td>2018</td>\n",
       "    </tr>\n",
       "    <tr>\n",
       "      <th>241234</th>\n",
       "      <td>P. Mahlambi</td>\n",
       "      <td>14</td>\n",
       "      <td>84</td>\n",
       "      <td>0.0</td>\n",
       "      <td>0</td>\n",
       "    </tr>\n",
       "    <tr>\n",
       "      <th>246386</th>\n",
       "      <td>B. Méndez</td>\n",
       "      <td>10</td>\n",
       "      <td>82</td>\n",
       "      <td>0.0</td>\n",
       "      <td>0</td>\n",
       "    </tr>\n",
       "    <tr>\n",
       "      <th>226568</th>\n",
       "      <td>I. Hagi</td>\n",
       "      <td>14</td>\n",
       "      <td>82</td>\n",
       "      <td>0.0</td>\n",
       "      <td>0</td>\n",
       "    </tr>\n",
       "    <tr>\n",
       "      <th>232066</th>\n",
       "      <td>W. González</td>\n",
       "      <td>8</td>\n",
       "      <td>81</td>\n",
       "      <td>6000000.0</td>\n",
       "      <td>2018</td>\n",
       "    </tr>\n",
       "    <tr>\n",
       "      <th>232708</th>\n",
       "      <td>M. Valenzuela</td>\n",
       "      <td>10</td>\n",
       "      <td>81</td>\n",
       "      <td>3200000.0</td>\n",
       "      <td>2018</td>\n",
       "    </tr>\n",
       "    <tr>\n",
       "      <th>233531</th>\n",
       "      <td>Y. Soteldo</td>\n",
       "      <td>10</td>\n",
       "      <td>81</td>\n",
       "      <td>3800000.0</td>\n",
       "      <td>2018</td>\n",
       "    </tr>\n",
       "    <tr>\n",
       "      <th>223229</th>\n",
       "      <td>C. Manea</td>\n",
       "      <td>12</td>\n",
       "      <td>81</td>\n",
       "      <td>0.0</td>\n",
       "      <td>0</td>\n",
       "    </tr>\n",
       "  </tbody>\n",
       "</table>\n",
       "</div>"
      ],
      "text/plain": [
       "                 Name  Growth  Potential      Value  Contract Valid Until\n",
       "ID                                                                       \n",
       "234396      A. Davies      15         87  6000000.0                  2018\n",
       "237681        T. Kubo      21         85   975000.0                  2018\n",
       "241234    P. Mahlambi      14         84        0.0                     0\n",
       "246386      B. Méndez      10         82        0.0                     0\n",
       "226568        I. Hagi      14         82        0.0                     0\n",
       "232066    W. González       8         81  6000000.0                  2018\n",
       "232708  M. Valenzuela      10         81  3200000.0                  2018\n",
       "233531     Y. Soteldo      10         81  3800000.0                  2018\n",
       "223229       C. Manea      12         81        0.0                     0"
      ]
     },
     "execution_count": 48,
     "metadata": {},
     "output_type": "execute_result"
    }
   ],
   "source": [
    "Free=df3[['Name','Growth','Potential', 'Value','Contract Valid Until']]\n",
    "Free[(Free['Contract Valid Until']<=2018) & (Free.Growth > 7) & (Free.Potential > 80)].sort_values(by='Potential', ascending=False)"
   ]
  },
  {
   "cell_type": "markdown",
   "metadata": {},
   "source": [
    "With this information we can recommend to our client some players that may be a good choice to approach, because they will have a very good overall in the future and may be bought at zero cost. "
   ]
  },
  {
   "cell_type": "markdown",
   "metadata": {},
   "source": [
    "We know our clients may have different budgets.\n",
    "As follows, we want to show our client the cheapest players with the highest Growth margin, taking in account the maximum overall that they can reach, in other words, their Potential."
   ]
  },
  {
   "cell_type": "code",
   "execution_count": 49,
   "metadata": {},
   "outputs": [
    {
     "data": {
      "image/png": "[encoded data removed]",
      "text/plain": [
       "<Figure size 720x360 with 1 Axes>"
      ]
     },
     "metadata": {},
     "output_type": "display_data"
    }
   ],
   "source": [
    "import seaborn as sns; sns.set()\n",
    "import matplotlib.pyplot as plt\n",
    "import array as arr\n",
    "\n",
    "BiggerGrowth = df3.loc[df3['Growth']>23]\n",
    "\n",
    "a=arr.array('d', BiggerGrowth.Potential)\n",
    "b=arr.array('d', BiggerGrowth.Value)\n",
    "\n",
    "ax=sns.scatterplot(x = \"Potential\", y = \"Value\",hue=\"Position\",palette=\"pastel\",data=BiggerGrowth)\n",
    "\n",
    "for i,txt in enumerate(BiggerGrowth.Name):\n",
    "    ax.annotate(txt,(a[i]+.2,b[i]+.2))"
   ]
  },
  {
   "cell_type": "markdown",
   "metadata": {},
   "source": [
    "This is the output our data gives us - a set of 11 players labeled by their positions and names. They are placed in the graph based on their value and their potential. Let's take a look at the most important results our scatterplot gives us:"
   ]
  },
  {
   "cell_type": "code",
   "execution_count": 50,
   "metadata": {},
   "outputs": [
    {
     "data": {
      "text/html": [
       "<div>\n",
       "<style scoped>\n",
       "    .dataframe tbody tr th:only-of-type {\n",
       "        vertical-align: middle;\n",
       "    }\n",
       "\n",
       "    .dataframe tbody tr th {\n",
       "        vertical-align: top;\n",
       "    }\n",
       "\n",
       "    .dataframe thead th {\n",
       "        text-align: right;\n",
       "    }\n",
       "</style>\n",
       "<table border=\"1\" class=\"dataframe\">\n",
       "  <thead>\n",
       "    <tr style=\"text-align: right;\">\n",
       "      <th></th>\n",
       "      <th>Name</th>\n",
       "      <th>Age</th>\n",
       "      <th>Nationality</th>\n",
       "      <th>Overall</th>\n",
       "      <th>Potential</th>\n",
       "      <th>Value</th>\n",
       "      <th>Wage</th>\n",
       "      <th>Preferred Foot</th>\n",
       "      <th>International Reputation</th>\n",
       "      <th>Weak Foot</th>\n",
       "      <th>...</th>\n",
       "      <th>GKDiving</th>\n",
       "      <th>GKHandling</th>\n",
       "      <th>GKKicking</th>\n",
       "      <th>GKPositioning</th>\n",
       "      <th>GKReflexes</th>\n",
       "      <th>Release Clause</th>\n",
       "      <th>Growth</th>\n",
       "      <th>ClipPotential</th>\n",
       "      <th>ClipOverall</th>\n",
       "      <th>ClipValue</th>\n",
       "    </tr>\n",
       "    <tr>\n",
       "      <th>ID</th>\n",
       "      <th></th>\n",
       "      <th></th>\n",
       "      <th></th>\n",
       "      <th></th>\n",
       "      <th></th>\n",
       "      <th></th>\n",
       "      <th></th>\n",
       "      <th></th>\n",
       "      <th></th>\n",
       "      <th></th>\n",
       "      <th></th>\n",
       "      <th></th>\n",
       "      <th></th>\n",
       "      <th></th>\n",
       "      <th></th>\n",
       "      <th></th>\n",
       "      <th></th>\n",
       "      <th></th>\n",
       "      <th></th>\n",
       "      <th></th>\n",
       "      <th></th>\n",
       "    </tr>\n",
       "  </thead>\n",
       "  <tbody>\n",
       "    <tr>\n",
       "      <th>241403</th>\n",
       "      <td>A. Dabo</td>\n",
       "      <td>17</td>\n",
       "      <td>France</td>\n",
       "      <td>62</td>\n",
       "      <td>86</td>\n",
       "      <td>650000.0</td>\n",
       "      <td>2000.0</td>\n",
       "      <td>0</td>\n",
       "      <td>1.0</td>\n",
       "      <td>2.0</td>\n",
       "      <td>...</td>\n",
       "      <td>8.0</td>\n",
       "      <td>8.0</td>\n",
       "      <td>14.0</td>\n",
       "      <td>5.0</td>\n",
       "      <td>10.0</td>\n",
       "      <td>1900000.0</td>\n",
       "      <td>24</td>\n",
       "      <td>86</td>\n",
       "      <td>62.0</td>\n",
       "      <td>650000.0</td>\n",
       "    </tr>\n",
       "  </tbody>\n",
       "</table>\n",
       "<p>1 rows × 55 columns</p>\n",
       "</div>"
      ],
      "text/plain": [
       "           Name  Age Nationality  Overall  Potential     Value    Wage  \\\n",
       "ID                                                                       \n",
       "241403  A. Dabo   17      France       62         86  650000.0  2000.0   \n",
       "\n",
       "        Preferred Foot  International Reputation  Weak Foot  ...  GKDiving  \\\n",
       "ID                                                           ...             \n",
       "241403               0                       1.0        2.0  ...       8.0   \n",
       "\n",
       "       GKHandling GKKicking  GKPositioning GKReflexes  Release Clause  Growth  \\\n",
       "ID                                                                              \n",
       "241403        8.0      14.0            5.0       10.0       1900000.0      24   \n",
       "\n",
       "        ClipPotential  ClipOverall  ClipValue  \n",
       "ID                                             \n",
       "241403             86         62.0   650000.0  \n",
       "\n",
       "[1 rows x 55 columns]"
      ]
     },
     "execution_count": 50,
     "metadata": {},
     "output_type": "execute_result"
    }
   ],
   "source": [
    "df3.loc[df3.Name== 'A. Dabo']"
   ]
  },
  {
   "cell_type": "markdown",
   "metadata": {},
   "source": [
    "Above we can see the complete information about the player with the highest potential - A. Dabo."
   ]
  },
  {
   "cell_type": "code",
   "execution_count": 51,
   "metadata": {},
   "outputs": [
    {
     "data": {
      "text/html": [
       "<div>\n",
       "<style scoped>\n",
       "    .dataframe tbody tr th:only-of-type {\n",
       "        vertical-align: middle;\n",
       "    }\n",
       "\n",
       "    .dataframe tbody tr th {\n",
       "        vertical-align: top;\n",
       "    }\n",
       "\n",
       "    .dataframe thead th {\n",
       "        text-align: right;\n",
       "    }\n",
       "</style>\n",
       "<table border=\"1\" class=\"dataframe\">\n",
       "  <thead>\n",
       "    <tr style=\"text-align: right;\">\n",
       "      <th></th>\n",
       "      <th>Name</th>\n",
       "      <th>Age</th>\n",
       "      <th>Nationality</th>\n",
       "      <th>Overall</th>\n",
       "      <th>Potential</th>\n",
       "      <th>Value</th>\n",
       "      <th>Wage</th>\n",
       "      <th>Preferred Foot</th>\n",
       "      <th>International Reputation</th>\n",
       "      <th>Weak Foot</th>\n",
       "      <th>...</th>\n",
       "      <th>GKDiving</th>\n",
       "      <th>GKHandling</th>\n",
       "      <th>GKKicking</th>\n",
       "      <th>GKPositioning</th>\n",
       "      <th>GKReflexes</th>\n",
       "      <th>Release Clause</th>\n",
       "      <th>Growth</th>\n",
       "      <th>ClipPotential</th>\n",
       "      <th>ClipOverall</th>\n",
       "      <th>ClipValue</th>\n",
       "    </tr>\n",
       "    <tr>\n",
       "      <th>ID</th>\n",
       "      <th></th>\n",
       "      <th></th>\n",
       "      <th></th>\n",
       "      <th></th>\n",
       "      <th></th>\n",
       "      <th></th>\n",
       "      <th></th>\n",
       "      <th></th>\n",
       "      <th></th>\n",
       "      <th></th>\n",
       "      <th></th>\n",
       "      <th></th>\n",
       "      <th></th>\n",
       "      <th></th>\n",
       "      <th></th>\n",
       "      <th></th>\n",
       "      <th></th>\n",
       "      <th></th>\n",
       "      <th></th>\n",
       "      <th></th>\n",
       "      <th></th>\n",
       "    </tr>\n",
       "  </thead>\n",
       "  <tbody>\n",
       "    <tr>\n",
       "      <th>244592</th>\n",
       "      <td>J. von Moos</td>\n",
       "      <td>17</td>\n",
       "      <td>Switzerland</td>\n",
       "      <td>58</td>\n",
       "      <td>84</td>\n",
       "      <td>280000.0</td>\n",
       "      <td>2000.0</td>\n",
       "      <td>0</td>\n",
       "      <td>1.0</td>\n",
       "      <td>3.0</td>\n",
       "      <td>...</td>\n",
       "      <td>11.0</td>\n",
       "      <td>13.0</td>\n",
       "      <td>12.0</td>\n",
       "      <td>14.0</td>\n",
       "      <td>8.0</td>\n",
       "      <td>700000.0</td>\n",
       "      <td>26</td>\n",
       "      <td>84</td>\n",
       "      <td>58.0</td>\n",
       "      <td>280000.0</td>\n",
       "    </tr>\n",
       "  </tbody>\n",
       "</table>\n",
       "<p>1 rows × 55 columns</p>\n",
       "</div>"
      ],
      "text/plain": [
       "               Name  Age  Nationality  Overall  Potential     Value    Wage  \\\n",
       "ID                                                                            \n",
       "244592  J. von Moos   17  Switzerland       58         84  280000.0  2000.0   \n",
       "\n",
       "        Preferred Foot  International Reputation  Weak Foot  ...  GKDiving  \\\n",
       "ID                                                           ...             \n",
       "244592               0                       1.0        3.0  ...      11.0   \n",
       "\n",
       "       GKHandling GKKicking  GKPositioning GKReflexes  Release Clause  Growth  \\\n",
       "ID                                                                              \n",
       "244592       13.0      12.0           14.0        8.0        700000.0      26   \n",
       "\n",
       "        ClipPotential  ClipOverall  ClipValue  \n",
       "ID                                             \n",
       "244592             84         58.0   280000.0  \n",
       "\n",
       "[1 rows x 55 columns]"
      ]
     },
     "execution_count": 51,
     "metadata": {},
     "output_type": "execute_result"
    }
   ],
   "source": [
    "df3.loc[df3.Name== 'J. von Moos']"
   ]
  },
  {
   "cell_type": "markdown",
   "metadata": {},
   "source": [
    "Overhead we can see the complete information of what might be the best deal considering his price and his potential."
   ]
  },
  {
   "cell_type": "markdown",
   "metadata": {},
   "source": [
    "The client may also want more experienced players to drive better results faster and still having a high growth margin. Along these lines, he can pick one of the following players:"
   ]
  },
  {
   "cell_type": "code",
   "execution_count": 52,
   "metadata": {},
   "outputs": [
    {
     "data": {
      "image/png": "[encoded data removed]",
      "text/plain": [
       "<Figure size 720x360 with 1 Axes>"
      ]
     },
     "metadata": {},
     "output_type": "display_data"
    }
   ],
   "source": [
    "Young = df3.loc[(df3['Growth']>=15) & (df3['Potential'] >86) & (df3['Value']<10000000)]\n",
    "\n",
    "a=arr.array('d', Young.Potential)\n",
    "b=arr.array('d', Young.Value)\n",
    "\n",
    "ax=sns.scatterplot(x = \"Potential\", y = \"Value\",hue=\"Position\",palette=\"pastel\",data=Young)\n",
    "\n",
    "for i,txt in enumerate(Young.Name):\n",
    "    ax.annotate(txt,(a[i],b[i]+.2))"
   ]
  },
  {
   "cell_type": "markdown",
   "metadata": {},
   "source": [
    "Observing the graph we can see that Puig and Tonali are the best choices considering their Value and Potential."
   ]
  },
  {
   "cell_type": "markdown",
   "metadata": {},
   "source": [
    "### Variable Normalization\n",
    "\n",
    "In order to use clustering methods we need to be able to compare different variables, but usually the variables are in different measures. To solve this problem we decided to normalize the variables that we will use later in the clusters."
   ]
  },
  {
   "cell_type": "code",
   "execution_count": 53,
   "metadata": {},
   "outputs": [
    {
     "name": "stderr",
     "output_type": "stream",
     "text": [
      "C:\\Users\\User\\Anaconda3\\lib\\site-packages\\ipykernel_launcher.py:1: SettingWithCopyWarning: \n",
      "A value is trying to be set on a copy of a slice from a DataFrame.\n",
      "Try using .loc[row_indexer,col_indexer] = value instead\n",
      "\n",
      "See the caveats in the documentation: http://pandas.pydata.org/pandas-docs/stable/indexing.html#indexing-view-versus-copy\n",
      "  \"\"\"Entry point for launching an IPython kernel.\n",
      "C:\\Users\\User\\Anaconda3\\lib\\site-packages\\ipykernel_launcher.py:2: SettingWithCopyWarning: \n",
      "A value is trying to be set on a copy of a slice from a DataFrame.\n",
      "Try using .loc[row_indexer,col_indexer] = value instead\n",
      "\n",
      "See the caveats in the documentation: http://pandas.pydata.org/pandas-docs/stable/indexing.html#indexing-view-versus-copy\n",
      "  \n",
      "C:\\Users\\User\\Anaconda3\\lib\\site-packages\\ipykernel_launcher.py:3: SettingWithCopyWarning: \n",
      "A value is trying to be set on a copy of a slice from a DataFrame.\n",
      "Try using .loc[row_indexer,col_indexer] = value instead\n",
      "\n",
      "See the caveats in the documentation: http://pandas.pydata.org/pandas-docs/stable/indexing.html#indexing-view-versus-copy\n",
      "  This is separate from the ipykernel package so we can avoid doing imports until\n",
      "C:\\Users\\User\\Anaconda3\\lib\\site-packages\\ipykernel_launcher.py:4: SettingWithCopyWarning: \n",
      "A value is trying to be set on a copy of a slice from a DataFrame.\n",
      "Try using .loc[row_indexer,col_indexer] = value instead\n",
      "\n",
      "See the caveats in the documentation: http://pandas.pydata.org/pandas-docs/stable/indexing.html#indexing-view-versus-copy\n",
      "  after removing the cwd from sys.path.\n"
     ]
    }
   ],
   "source": [
    "df3['StandardAge'] = (df3['Age'] - np.mean(df3['Age'])) / np.std(df3['Age'])\n",
    "df3['StandardValue'] = (df3['Value'] - np.mean(df3['Value'])) / np.std(df3['Value'])\n",
    "df3['StandardPotential'] = (df3['Potential'] - np.mean(df3['Potential'])) / np.std(df3['Potential'])\n",
    "df3['StandardGrowth'] = (df3['Growth'] - np.mean(df3['Growth'])) / np.std(df3['Growth'])"
   ]
  },
  {
   "cell_type": "markdown",
   "metadata": {},
   "source": [
    "Lets check what happened for the age."
   ]
  },
  {
   "cell_type": "code",
   "execution_count": 54,
   "metadata": {},
   "outputs": [
    {
     "name": "stderr",
     "output_type": "stream",
     "text": [
      "'c' argument looks like a single numeric RGB or RGBA sequence, which should be avoided as value-mapping will have precedence in case its length matches with 'x' & 'y'.  Please use a 2-D array with a single row if you really want to specify the same RGB or RGBA value for all points.\n"
     ]
    },
    {
     "name": "stdout",
     "output_type": "stream",
     "text": [
      "Original age mean:  25.10843507832971 \tOriginal age standard deviation:  4.682564930292002\n",
      "Standardized age mean:  2.6008334509672588e-14 \tStandardized age standard deviation:  1.0000000000000913\n"
     ]
    },
    {
     "data": {
      "text/plain": [
       "<matplotlib.axes._subplots.AxesSubplot at 0x28883f06908>"
      ]
     },
     "execution_count": 54,
     "metadata": {},
     "output_type": "execute_result"
    },
    {
     "data": {
      "image/png": "[encoded data removed]",
      "text/plain": [
       "<Figure size 720x360 with 1 Axes>"
      ]
     },
     "metadata": {},
     "output_type": "display_data"
    }
   ],
   "source": [
    "print('Original age mean: ', np.mean(df3['Age']), '\\tOriginal age standard deviation: ', np.std(df3['Age']))\n",
    "print('Standardized age mean: ', np.mean(df3['StandardAge']), '\\tStandardized age standard deviation: ', np.std(df3['StandardAge']))\n",
    "\n",
    "df3.plot.scatter(x='Age', y='StandardAge')"
   ]
  },
  {
   "cell_type": "markdown",
   "metadata": {},
   "source": [
    "We can observe the correlation matrix to see if all the variables are important for the analysis. \n",
    "\n",
    "If two of them are very correlated, we can remove one of them."
   ]
  },
  {
   "cell_type": "code",
   "execution_count": 71,
   "metadata": {},
   "outputs": [
    {
     "data": {
      "image/png": "[encoded data removed]",
      "text/plain": [
       "<Figure size 1080x1080 with 2 Axes>"
      ]
     },
     "metadata": {},
     "output_type": "display_data"
    }
   ],
   "source": [
    "corr = df3[['Age', 'Value', 'Potential', 'Overall', 'Growth']].corr()\n",
    "\n",
    "g = sns.heatmap(corr,  vmax=.8, center=0, vmin=-.8,\n",
    "            square=True, linewidths=.5, cbar_kws={\"shrink\": .5}, annot=True, fmt='.2f', cmap='coolwarm')\n",
    "\n",
    "sns.despine()\n",
    "g.figure.set_size_inches(15,15)\n",
    "    \n",
    "plt.savefig('C:/Users/User/Desktop/MI/corr_matrix.png')"
   ]
  },
  {
   "cell_type": "markdown",
   "metadata": {},
   "source": [
    "A correlation matrix is a table showing correlation coefficients between variables. Each cell in the table shows the correlation between two variables. \n",
    "\n",
    "In statistics, the correlation coefficient measures the strength and direction of a linear relationship between two variables on a scatterplot. The value of r is always between +1 and –1.\n",
    "\n",
    "In this matrix we conclude that Value has a very strong positive relationship with Overall (>0,7) meaning very much likely when the overall of a player goes up the value also goes up and vice versa. Age and Growth are the most significant correlation, a negative one (<-0,7), which basically means that, for example, whenever a player grows old, its growth potential goes down, and the younger he is the more he can grow."
   ]
  },
  {
   "cell_type": "markdown",
   "metadata": {},
   "source": [
    "## Hierarchical Clustering"
   ]
  },
  {
   "cell_type": "markdown",
   "metadata": {},
   "source": [
    "In the Hierarchical Clustering, we start with clusters that contain only one player and then we join the others that are more similar one by one, in order to creat a larger cluster. Then we repeat the process until there are no players left alone. \n",
    "\n",
    "First, we will import the libraries that we will use."
   ]
  },
  {
   "cell_type": "code",
   "execution_count": 56,
   "metadata": {},
   "outputs": [],
   "source": [
    "from scipy.cluster.hierarchy import dendrogram, linkage\n",
    "from matplotlib import pyplot as plt"
   ]
  },
  {
   "cell_type": "markdown",
   "metadata": {},
   "source": [
    "Then we created a dataframe only with the Normalized variables that we considered more important."
   ]
  },
  {
   "cell_type": "code",
   "execution_count": 57,
   "metadata": {},
   "outputs": [],
   "source": [
    "data = df3[['StandardGrowth','StandardValue','StandardPotential']]"
   ]
  },
  {
   "cell_type": "markdown",
   "metadata": {},
   "source": [
    "Because usually the software crashes with lots of data, we decided to decrease the size of our sample.  "
   ]
  },
  {
   "cell_type": "code",
   "execution_count": 58,
   "metadata": {},
   "outputs": [],
   "source": [
    "data_short=data.sample(n=5000,random_state=1)"
   ]
  },
  {
   "cell_type": "markdown",
   "metadata": {},
   "source": [
    "It is possible to use several methods in this type of clustering, we decided to user Ward method."
   ]
  },
  {
   "cell_type": "code",
   "execution_count": 59,
   "metadata": {},
   "outputs": [
    {
     "data": {
      "image/png": "[encoded data removed]",
      "text/plain": [
       "<Figure size 720x504 with 1 Axes>"
      ]
     },
     "metadata": {},
     "output_type": "display_data"
    }
   ],
   "source": [
    "plt.figure(figsize=(10, 7))\n",
    "plt.title(\"Football Players Dendogram\")\n",
    "dend = dendrogram(linkage(data_short, method='ward'))"
   ]
  },
  {
   "cell_type": "markdown",
   "metadata": {},
   "source": [
    "## K-means"
   ]
  },
  {
   "cell_type": "markdown",
   "metadata": {},
   "source": [
    "In the K-means Clustering, we will divide the data in k clusters simultaneously. \n",
    "\n",
    "First, we will import the libraries that we will use."
   ]
  },
  {
   "cell_type": "code",
   "execution_count": 60,
   "metadata": {},
   "outputs": [],
   "source": [
    "from sklearn.cluster import KMeans\n",
    "import collections"
   ]
  },
  {
   "cell_type": "markdown",
   "metadata": {},
   "source": [
    "In order to decide how many clusters we will want to use in the K-means, we will look at the Elbow Curve."
   ]
  },
  {
   "cell_type": "code",
   "execution_count": 61,
   "metadata": {},
   "outputs": [
    {
     "data": {
      "image/png": "[encoded data removed]",
      "text/plain": [
       "<Figure size 720x360 with 1 Axes>"
      ]
     },
     "metadata": {},
     "output_type": "display_data"
    }
   ],
   "source": [
    "inertia = []\n",
    "daviesBouldinScore = []\n",
    "\n",
    "\n",
    "for i in range(1 , 11):\n",
    "    kmeans = KMeans(n_clusters = i, init = 'k-means++', max_iter = 300, n_init = 10, random_state = 0)\n",
    "    kmeans.fit(data)\n",
    "    inertia.append(kmeans.inertia_)\n",
    "    \n",
    "plt.plot(np.arange(1, 11), inertia)\n",
    "plt.title('Elbow curve')\n",
    "plt.xlabel('Number of Clusters (k)')\n",
    "plt.ylabel('Inertia')\n",
    "plt.show()"
   ]
  },
  {
   "cell_type": "markdown",
   "metadata": {},
   "source": [
    "After looking to the Elbow curve we decided to do our analysis with 3 clusters.\n",
    "\n",
    "So, we created our model with 3 clusters."
   ]
  },
  {
   "cell_type": "code",
   "execution_count": 62,
   "metadata": {},
   "outputs": [
    {
     "data": {
      "text/plain": [
       "KMeans(algorithm='auto', copy_x=True, init='k-means++', max_iter=300,\n",
       "       n_clusters=3, n_init=10, n_jobs=None, precompute_distances='auto',\n",
       "       random_state=0, tol=0.0001, verbose=0)"
      ]
     },
     "execution_count": 62,
     "metadata": {},
     "output_type": "execute_result"
    }
   ],
   "source": [
    "kmeans = KMeans(n_clusters = 3, init = 'k-means++', max_iter = 300, n_init = 10, random_state = 0)\n",
    "kmeans.fit(data)"
   ]
  },
  {
   "cell_type": "markdown",
   "metadata": {},
   "source": [
    "We can observe the labels and the centroids given by the K-means."
   ]
  },
  {
   "cell_type": "code",
   "execution_count": 63,
   "metadata": {},
   "outputs": [
    {
     "name": "stdout",
     "output_type": "stream",
     "text": [
      "[[-0.393112    2.09796545  1.36402131]\n",
      " [ 1.21620385 -0.35363762  0.4441698 ]\n",
      " [-0.57736491 -0.31838385 -0.58042306]]\n"
     ]
    }
   ],
   "source": [
    "labels = kmeans.labels_\n",
    "centroids = kmeans.cluster_centers_\n",
    "print(centroids)"
   ]
  },
  {
   "cell_type": "markdown",
   "metadata": {},
   "source": [
    "We can also observe how many Football Players each cluster contains."
   ]
  },
  {
   "cell_type": "code",
   "execution_count": 64,
   "metadata": {},
   "outputs": [
    {
     "data": {
      "text/plain": [
       "Counter({0: 2444, 1: 5523, 2: 9970})"
      ]
     },
     "execution_count": 64,
     "metadata": {},
     "output_type": "execute_result"
    }
   ],
   "source": [
    "collections.Counter(labels)"
   ]
  },
  {
   "cell_type": "markdown",
   "metadata": {},
   "source": [
    "To better visualize the distribution of the players around the centroids, we did a graph where it is possible to see the clusters and where each centroid is."
   ]
  },
  {
   "cell_type": "code",
   "execution_count": 65,
   "metadata": {},
   "outputs": [
    {
     "data": {
      "image/png": "[encoded data removed]",
      "text/plain": [
       "<Figure size 720x360 with 1 Axes>"
      ]
     },
     "metadata": {},
     "output_type": "display_data"
    }
   ],
   "source": [
    "from sklearn.datasets.samples_generator import make_blobs\n",
    "X, y_true = make_blobs(n_samples=300, centers=3,\n",
    "                       cluster_std=0.60, random_state=0)\n",
    "pred_y = kmeans.fit_predict(X)\n",
    "plt.scatter(X[:,0], X[:,1])\n",
    "plt.scatter(kmeans.cluster_centers_[:, 0], kmeans.cluster_centers_[:, 1], s=300, c='red')\n",
    "plt.show()"
   ]
  },
  {
   "cell_type": "markdown",
   "metadata": {},
   "source": [
    "Then we added a column named \"cluster\" to the original dataframe that give us the cluster where each player belongs."
   ]
  },
  {
   "cell_type": "code",
   "execution_count": 66,
   "metadata": {},
   "outputs": [
    {
     "name": "stderr",
     "output_type": "stream",
     "text": [
      "C:\\Users\\User\\Anaconda3\\lib\\site-packages\\ipykernel_launcher.py:2: SettingWithCopyWarning: \n",
      "A value is trying to be set on a copy of a slice from a DataFrame.\n",
      "Try using .loc[row_indexer,col_indexer] = value instead\n",
      "\n",
      "See the caveats in the documentation: http://pandas.pydata.org/pandas-docs/stable/indexing.html#indexing-view-versus-copy\n",
      "  \n"
     ]
    }
   ],
   "source": [
    "fit = kmeans.fit(data)\n",
    "df3['cluster'] = fit.labels_.tolist()  "
   ]
  },
  {
   "cell_type": "markdown",
   "metadata": {},
   "source": [
    "To better analyze and interpret the clusters we will use a barplot to show us the differences between clusters in terms of the 3 variables used."
   ]
  },
  {
   "cell_type": "code",
   "execution_count": 67,
   "metadata": {},
   "outputs": [
    {
     "data": {
      "image/png": "[encoded data removed]",
      "text/plain": [
       "<Figure size 720x360 with 1 Axes>"
      ]
     },
     "metadata": {},
     "output_type": "display_data"
    }
   ],
   "source": [
    "# Dataframe\n",
    "df4=df3[['Name','cluster','Potential','Growth','Value','StandardPotential','StandardGrowth','StandardValue']]\n",
    "\n",
    "# libraries\n",
    "import numpy as np\n",
    "import matplotlib.pyplot as plt\n",
    " \n",
    "# set width of bar\n",
    "barWidth = 0.25\n",
    " \n",
    "# set height of bar\n",
    "bars1 = [df4.groupby('cluster')['StandardPotential'].mean()[0],df4.groupby('cluster')['StandardPotential'].mean()[1],df4.groupby('cluster')['StandardPotential'].mean()[2]] #Medias de Potential para cada cluster\n",
    "bars2 = [df4.groupby('cluster')['StandardGrowth'].mean()[0],df4.groupby('cluster')['StandardGrowth'].mean()[1],df4.groupby('cluster')['StandardGrowth'].mean()[2]] # Medias de Overall para cada cluster\n",
    "bars3 = [df4.groupby('cluster')['StandardValue'].mean()[0],df4.groupby('cluster')['StandardValue'].mean()[1],df4.groupby('cluster')['StandardValue'].mean()[2]]\n",
    " \n",
    "# Set position of bar on X axis\n",
    "r1 = np.arange(len(bars1))\n",
    "r2 = [x + barWidth for x in r1]\n",
    "r3 = [x + barWidth for x in r2]\n",
    " \n",
    "# Make the plot\n",
    "plt.bar(r1, bars1, color='#3A70D4', width=barWidth, edgecolor='white', label='Potential')\n",
    "plt.bar(r2, bars2, color='#6E9DF3', width=barWidth, edgecolor='white', label='Growth')\n",
    "plt.bar(r3, bars3, color='#091E43', width=barWidth, edgecolor='white', label='Value')\n",
    " \n",
    "# Add xticks on the middle of the group bars\n",
    "plt.xlabel('Cluster', fontweight='bold')\n",
    "plt.ylabel('Standardize Mean', fontweight='bold')\n",
    "plt.xticks([r + barWidth for r in range(len(bars1))], ['0', '1', '2'])\n",
    " \n",
    "# Create legend & Show graphic\n",
    "plt.legend(fontsize =16)\n",
    "plt.show()"
   ]
  },
  {
   "cell_type": "markdown",
   "metadata": {},
   "source": [
    "We can conclude, by the analysis of the results of the 3 clusters in the graph, that there are 3 very distinctive type of clusters. We want to choose one to recommend to the potential player of this FIFA game who wants to find the best player at the best price, meaning the best deal. \n",
    "\n",
    "#### *Cluster 0* \n",
    "Shows us a group of players with a high potential but a growth below the average which might be translated in players with high overall and that already reached their maximum potential, having thus a high market value. \n",
    "\n",
    "#### *Cluster 1* \n",
    "Shows us a group of players with a potential above the average and the highest margin of progression, which usually happens to players that are in the beggining of their careers, resulting in a market value below the average. \n",
    "\n",
    "#### *Cluster 2* \n",
    "Shows us the worst players in terms of growth and potential, which means it's a non interesting cluster for us to recommend to the gamers.\n",
    "\n",
    "\n",
    "Therefore, we strongly recommend any FIFA player to choose *cluster 1* in order to select a player to buy and develop, since it represents the best deal when someone seeks for a top and cheap player.\n"
   ]
  },
  {
   "cell_type": "markdown",
   "metadata": {},
   "source": [
    "As predicted earlier in our Data Analysis, the players that we chose as the best deals now match with the cluster that we defined as the most suitable for our clients' goals."
   ]
  },
  {
   "cell_type": "code",
   "execution_count": 68,
   "metadata": {},
   "outputs": [
    {
     "data": {
      "text/html": [
       "<div>\n",
       "<style scoped>\n",
       "    .dataframe tbody tr th:only-of-type {\n",
       "        vertical-align: middle;\n",
       "    }\n",
       "\n",
       "    .dataframe tbody tr th {\n",
       "        vertical-align: top;\n",
       "    }\n",
       "\n",
       "    .dataframe thead th {\n",
       "        text-align: right;\n",
       "    }\n",
       "</style>\n",
       "<table border=\"1\" class=\"dataframe\">\n",
       "  <thead>\n",
       "    <tr style=\"text-align: right;\">\n",
       "      <th></th>\n",
       "      <th>Name</th>\n",
       "      <th>cluster</th>\n",
       "      <th>Potential</th>\n",
       "      <th>Growth</th>\n",
       "      <th>Value</th>\n",
       "    </tr>\n",
       "    <tr>\n",
       "      <th>ID</th>\n",
       "      <th></th>\n",
       "      <th></th>\n",
       "      <th></th>\n",
       "      <th></th>\n",
       "      <th></th>\n",
       "    </tr>\n",
       "  </thead>\n",
       "  <tbody>\n",
       "    <tr>\n",
       "      <th>241403</th>\n",
       "      <td>A. Dabo</td>\n",
       "      <td>1</td>\n",
       "      <td>86</td>\n",
       "      <td>24</td>\n",
       "      <td>650000.0</td>\n",
       "    </tr>\n",
       "    <tr>\n",
       "      <th>245721</th>\n",
       "      <td>G. Azzinnari</td>\n",
       "      <td>1</td>\n",
       "      <td>83</td>\n",
       "      <td>24</td>\n",
       "      <td>350000.0</td>\n",
       "    </tr>\n",
       "    <tr>\n",
       "      <th>244592</th>\n",
       "      <td>J. von Moos</td>\n",
       "      <td>1</td>\n",
       "      <td>84</td>\n",
       "      <td>26</td>\n",
       "      <td>280000.0</td>\n",
       "    </tr>\n",
       "    <tr>\n",
       "      <th>246241</th>\n",
       "      <td>Y. Lenze</td>\n",
       "      <td>1</td>\n",
       "      <td>82</td>\n",
       "      <td>25</td>\n",
       "      <td>190000.0</td>\n",
       "    </tr>\n",
       "    <tr>\n",
       "      <th>245361</th>\n",
       "      <td>I. Sauter</td>\n",
       "      <td>1</td>\n",
       "      <td>80</td>\n",
       "      <td>24</td>\n",
       "      <td>180000.0</td>\n",
       "    </tr>\n",
       "    <tr>\n",
       "      <th>243353</th>\n",
       "      <td>B. Mumba</td>\n",
       "      <td>1</td>\n",
       "      <td>80</td>\n",
       "      <td>25</td>\n",
       "      <td>190000.0</td>\n",
       "    </tr>\n",
       "    <tr>\n",
       "      <th>246100</th>\n",
       "      <td>K. Askildsen</td>\n",
       "      <td>1</td>\n",
       "      <td>77</td>\n",
       "      <td>25</td>\n",
       "      <td>110000.0</td>\n",
       "    </tr>\n",
       "    <tr>\n",
       "      <th>246109</th>\n",
       "      <td>K. Lara</td>\n",
       "      <td>1</td>\n",
       "      <td>74</td>\n",
       "      <td>24</td>\n",
       "      <td>60000.0</td>\n",
       "    </tr>\n",
       "    <tr>\n",
       "      <th>245370</th>\n",
       "      <td>E. Destanoglu</td>\n",
       "      <td>1</td>\n",
       "      <td>74</td>\n",
       "      <td>24</td>\n",
       "      <td>50000.0</td>\n",
       "    </tr>\n",
       "    <tr>\n",
       "      <th>238758</th>\n",
       "      <td>D. Campbell</td>\n",
       "      <td>1</td>\n",
       "      <td>76</td>\n",
       "      <td>26</td>\n",
       "      <td>60000.0</td>\n",
       "    </tr>\n",
       "    <tr>\n",
       "      <th>243621</th>\n",
       "      <td>N. Ayéva</td>\n",
       "      <td>1</td>\n",
       "      <td>72</td>\n",
       "      <td>24</td>\n",
       "      <td>70000.0</td>\n",
       "    </tr>\n",
       "  </tbody>\n",
       "</table>\n",
       "</div>"
      ],
      "text/plain": [
       "                 Name  cluster  Potential  Growth     Value\n",
       "ID                                                         \n",
       "241403        A. Dabo        1         86      24  650000.0\n",
       "245721   G. Azzinnari        1         83      24  350000.0\n",
       "244592    J. von Moos        1         84      26  280000.0\n",
       "246241       Y. Lenze        1         82      25  190000.0\n",
       "245361      I. Sauter        1         80      24  180000.0\n",
       "243353       B. Mumba        1         80      25  190000.0\n",
       "246100   K. Askildsen        1         77      25  110000.0\n",
       "246109        K. Lara        1         74      24   60000.0\n",
       "245370  E. Destanoglu        1         74      24   50000.0\n",
       "238758    D. Campbell        1         76      26   60000.0\n",
       "243621       N. Ayéva        1         72      24   70000.0"
      ]
     },
     "execution_count": 68,
     "metadata": {},
     "output_type": "execute_result"
    }
   ],
   "source": [
    "df5=df3[['Name','cluster','Potential','Growth','Value']]\n",
    "df5.loc[df5['Growth']>23]"
   ]
  },
  {
   "cell_type": "code",
   "execution_count": null,
   "metadata": {},
   "outputs": [],
   "source": []
  }
 ],
 "metadata": {
  "kernelspec": {
   "display_name": "Python 3",
   "language": "python",
   "name": "python3"
  },
  "language_info": {
   "codemirror_mode": {
    "name": "ipython",
    "version": 3
   },
   "file_extension": ".py",
   "mimetype": "text/x-python",
   "name": "python",
   "nbconvert_exporter": "python",
   "pygments_lexer": "ipython3",
   "version": "3.7.3"
  }
 },
 "nbformat": 4,
 "nbformat_minor": 4
}
